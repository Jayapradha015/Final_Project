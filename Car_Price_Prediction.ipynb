{
 "cells": [
  {
   "cell_type": "markdown",
   "id": "5aabac75",
   "metadata": {},
   "source": [
    "# Importing Libraries"
   ]
  },
  {
   "cell_type": "code",
   "execution_count": 114,
   "id": "30b2e0b4",
   "metadata": {},
   "outputs": [],
   "source": [
    "import pandas as pd\n",
    "import numpy as np\n",
    "import matplotlib.pyplot as plt\n",
    "import seaborn as sns\n",
    "from sklearn.preprocessing import StandardScaler\n",
    "from sklearn.decomposition import PCA\n",
    "from sklearn.model_selection import train_test_split\n",
    "from sklearn.model_selection import GridSearchCV\n",
    "from sklearn.linear_model import LinearRegression\n",
    "from sklearn.tree import DecisionTreeRegressor\n",
    "from sklearn.ensemble import RandomForestRegressor\n",
    "from sklearn.ensemble import GradientBoostingRegressor\n",
    "from sklearn.svm import SVR\n",
    "from sklearn.metrics import mean_squared_error\n",
    "from sklearn.metrics import r2_score\n",
    "from sklearn.metrics import mean_absolute_error\n"
   ]
  },
  {
   "cell_type": "markdown",
   "id": "2a7cb0d6",
   "metadata": {},
   "source": [
    "## Reading dataset"
   ]
  },
  {
   "cell_type": "code",
   "execution_count": 7,
   "id": "3b599b9b",
   "metadata": {},
   "outputs": [
    {
     "data": {
      "text/html": [
       "<div>\n",
       "<style scoped>\n",
       "    .dataframe tbody tr th:only-of-type {\n",
       "        vertical-align: middle;\n",
       "    }\n",
       "\n",
       "    .dataframe tbody tr th {\n",
       "        vertical-align: top;\n",
       "    }\n",
       "\n",
       "    .dataframe thead th {\n",
       "        text-align: right;\n",
       "    }\n",
       "</style>\n",
       "<table border=\"1\" class=\"dataframe\">\n",
       "  <thead>\n",
       "    <tr style=\"text-align: right;\">\n",
       "      <th></th>\n",
       "      <th>symboling</th>\n",
       "      <th>normalized-losses</th>\n",
       "      <th>make</th>\n",
       "      <th>fuel-type</th>\n",
       "      <th>aspiration</th>\n",
       "      <th>num-of-doors</th>\n",
       "      <th>body-style</th>\n",
       "      <th>drive-wheels</th>\n",
       "      <th>engine-location</th>\n",
       "      <th>wheel-base</th>\n",
       "      <th>...</th>\n",
       "      <th>engine-size</th>\n",
       "      <th>fuel-system</th>\n",
       "      <th>bore</th>\n",
       "      <th>stroke</th>\n",
       "      <th>compression-ratio</th>\n",
       "      <th>horsepower</th>\n",
       "      <th>peak-rpm</th>\n",
       "      <th>city-mpg</th>\n",
       "      <th>highway-mpg</th>\n",
       "      <th>price</th>\n",
       "    </tr>\n",
       "  </thead>\n",
       "  <tbody>\n",
       "    <tr>\n",
       "      <th>0</th>\n",
       "      <td>3</td>\n",
       "      <td>?</td>\n",
       "      <td>alfa-romero</td>\n",
       "      <td>gas</td>\n",
       "      <td>std</td>\n",
       "      <td>two</td>\n",
       "      <td>convertible</td>\n",
       "      <td>rwd</td>\n",
       "      <td>front</td>\n",
       "      <td>88.6</td>\n",
       "      <td>...</td>\n",
       "      <td>130</td>\n",
       "      <td>mpfi</td>\n",
       "      <td>3.47</td>\n",
       "      <td>2.68</td>\n",
       "      <td>9.0</td>\n",
       "      <td>111</td>\n",
       "      <td>5000</td>\n",
       "      <td>21</td>\n",
       "      <td>27</td>\n",
       "      <td>13495</td>\n",
       "    </tr>\n",
       "    <tr>\n",
       "      <th>1</th>\n",
       "      <td>3</td>\n",
       "      <td>?</td>\n",
       "      <td>alfa-romero</td>\n",
       "      <td>gas</td>\n",
       "      <td>std</td>\n",
       "      <td>two</td>\n",
       "      <td>convertible</td>\n",
       "      <td>rwd</td>\n",
       "      <td>front</td>\n",
       "      <td>88.6</td>\n",
       "      <td>...</td>\n",
       "      <td>130</td>\n",
       "      <td>mpfi</td>\n",
       "      <td>3.47</td>\n",
       "      <td>2.68</td>\n",
       "      <td>9.0</td>\n",
       "      <td>111</td>\n",
       "      <td>5000</td>\n",
       "      <td>21</td>\n",
       "      <td>27</td>\n",
       "      <td>16500</td>\n",
       "    </tr>\n",
       "    <tr>\n",
       "      <th>2</th>\n",
       "      <td>1</td>\n",
       "      <td>?</td>\n",
       "      <td>alfa-romero</td>\n",
       "      <td>gas</td>\n",
       "      <td>std</td>\n",
       "      <td>two</td>\n",
       "      <td>hatchback</td>\n",
       "      <td>rwd</td>\n",
       "      <td>front</td>\n",
       "      <td>94.5</td>\n",
       "      <td>...</td>\n",
       "      <td>152</td>\n",
       "      <td>mpfi</td>\n",
       "      <td>2.68</td>\n",
       "      <td>3.47</td>\n",
       "      <td>9.0</td>\n",
       "      <td>154</td>\n",
       "      <td>5000</td>\n",
       "      <td>19</td>\n",
       "      <td>26</td>\n",
       "      <td>16500</td>\n",
       "    </tr>\n",
       "    <tr>\n",
       "      <th>3</th>\n",
       "      <td>2</td>\n",
       "      <td>164</td>\n",
       "      <td>audi</td>\n",
       "      <td>gas</td>\n",
       "      <td>std</td>\n",
       "      <td>four</td>\n",
       "      <td>sedan</td>\n",
       "      <td>fwd</td>\n",
       "      <td>front</td>\n",
       "      <td>99.8</td>\n",
       "      <td>...</td>\n",
       "      <td>109</td>\n",
       "      <td>mpfi</td>\n",
       "      <td>3.19</td>\n",
       "      <td>3.4</td>\n",
       "      <td>10.0</td>\n",
       "      <td>102</td>\n",
       "      <td>5500</td>\n",
       "      <td>24</td>\n",
       "      <td>30</td>\n",
       "      <td>13950</td>\n",
       "    </tr>\n",
       "    <tr>\n",
       "      <th>4</th>\n",
       "      <td>2</td>\n",
       "      <td>164</td>\n",
       "      <td>audi</td>\n",
       "      <td>gas</td>\n",
       "      <td>std</td>\n",
       "      <td>four</td>\n",
       "      <td>sedan</td>\n",
       "      <td>4wd</td>\n",
       "      <td>front</td>\n",
       "      <td>99.4</td>\n",
       "      <td>...</td>\n",
       "      <td>136</td>\n",
       "      <td>mpfi</td>\n",
       "      <td>3.19</td>\n",
       "      <td>3.4</td>\n",
       "      <td>8.0</td>\n",
       "      <td>115</td>\n",
       "      <td>5500</td>\n",
       "      <td>18</td>\n",
       "      <td>22</td>\n",
       "      <td>17450</td>\n",
       "    </tr>\n",
       "    <tr>\n",
       "      <th>...</th>\n",
       "      <td>...</td>\n",
       "      <td>...</td>\n",
       "      <td>...</td>\n",
       "      <td>...</td>\n",
       "      <td>...</td>\n",
       "      <td>...</td>\n",
       "      <td>...</td>\n",
       "      <td>...</td>\n",
       "      <td>...</td>\n",
       "      <td>...</td>\n",
       "      <td>...</td>\n",
       "      <td>...</td>\n",
       "      <td>...</td>\n",
       "      <td>...</td>\n",
       "      <td>...</td>\n",
       "      <td>...</td>\n",
       "      <td>...</td>\n",
       "      <td>...</td>\n",
       "      <td>...</td>\n",
       "      <td>...</td>\n",
       "      <td>...</td>\n",
       "    </tr>\n",
       "    <tr>\n",
       "      <th>200</th>\n",
       "      <td>-1</td>\n",
       "      <td>95</td>\n",
       "      <td>volvo</td>\n",
       "      <td>gas</td>\n",
       "      <td>std</td>\n",
       "      <td>four</td>\n",
       "      <td>sedan</td>\n",
       "      <td>rwd</td>\n",
       "      <td>front</td>\n",
       "      <td>109.1</td>\n",
       "      <td>...</td>\n",
       "      <td>141</td>\n",
       "      <td>mpfi</td>\n",
       "      <td>3.78</td>\n",
       "      <td>3.15</td>\n",
       "      <td>9.5</td>\n",
       "      <td>114</td>\n",
       "      <td>5400</td>\n",
       "      <td>23</td>\n",
       "      <td>28</td>\n",
       "      <td>16845</td>\n",
       "    </tr>\n",
       "    <tr>\n",
       "      <th>201</th>\n",
       "      <td>-1</td>\n",
       "      <td>95</td>\n",
       "      <td>volvo</td>\n",
       "      <td>gas</td>\n",
       "      <td>turbo</td>\n",
       "      <td>four</td>\n",
       "      <td>sedan</td>\n",
       "      <td>rwd</td>\n",
       "      <td>front</td>\n",
       "      <td>109.1</td>\n",
       "      <td>...</td>\n",
       "      <td>141</td>\n",
       "      <td>mpfi</td>\n",
       "      <td>3.78</td>\n",
       "      <td>3.15</td>\n",
       "      <td>8.7</td>\n",
       "      <td>160</td>\n",
       "      <td>5300</td>\n",
       "      <td>19</td>\n",
       "      <td>25</td>\n",
       "      <td>19045</td>\n",
       "    </tr>\n",
       "    <tr>\n",
       "      <th>202</th>\n",
       "      <td>-1</td>\n",
       "      <td>95</td>\n",
       "      <td>volvo</td>\n",
       "      <td>gas</td>\n",
       "      <td>std</td>\n",
       "      <td>four</td>\n",
       "      <td>sedan</td>\n",
       "      <td>rwd</td>\n",
       "      <td>front</td>\n",
       "      <td>109.1</td>\n",
       "      <td>...</td>\n",
       "      <td>173</td>\n",
       "      <td>mpfi</td>\n",
       "      <td>3.58</td>\n",
       "      <td>2.87</td>\n",
       "      <td>8.8</td>\n",
       "      <td>134</td>\n",
       "      <td>5500</td>\n",
       "      <td>18</td>\n",
       "      <td>23</td>\n",
       "      <td>21485</td>\n",
       "    </tr>\n",
       "    <tr>\n",
       "      <th>203</th>\n",
       "      <td>-1</td>\n",
       "      <td>95</td>\n",
       "      <td>volvo</td>\n",
       "      <td>diesel</td>\n",
       "      <td>turbo</td>\n",
       "      <td>four</td>\n",
       "      <td>sedan</td>\n",
       "      <td>rwd</td>\n",
       "      <td>front</td>\n",
       "      <td>109.1</td>\n",
       "      <td>...</td>\n",
       "      <td>145</td>\n",
       "      <td>idi</td>\n",
       "      <td>3.01</td>\n",
       "      <td>3.4</td>\n",
       "      <td>23.0</td>\n",
       "      <td>106</td>\n",
       "      <td>4800</td>\n",
       "      <td>26</td>\n",
       "      <td>27</td>\n",
       "      <td>22470</td>\n",
       "    </tr>\n",
       "    <tr>\n",
       "      <th>204</th>\n",
       "      <td>-1</td>\n",
       "      <td>95</td>\n",
       "      <td>volvo</td>\n",
       "      <td>gas</td>\n",
       "      <td>turbo</td>\n",
       "      <td>four</td>\n",
       "      <td>sedan</td>\n",
       "      <td>rwd</td>\n",
       "      <td>front</td>\n",
       "      <td>109.1</td>\n",
       "      <td>...</td>\n",
       "      <td>141</td>\n",
       "      <td>mpfi</td>\n",
       "      <td>3.78</td>\n",
       "      <td>3.15</td>\n",
       "      <td>9.5</td>\n",
       "      <td>114</td>\n",
       "      <td>5400</td>\n",
       "      <td>19</td>\n",
       "      <td>25</td>\n",
       "      <td>22625</td>\n",
       "    </tr>\n",
       "  </tbody>\n",
       "</table>\n",
       "<p>205 rows × 26 columns</p>\n",
       "</div>"
      ],
      "text/plain": [
       "     symboling normalized-losses         make fuel-type aspiration  \\\n",
       "0            3                 ?  alfa-romero       gas        std   \n",
       "1            3                 ?  alfa-romero       gas        std   \n",
       "2            1                 ?  alfa-romero       gas        std   \n",
       "3            2               164         audi       gas        std   \n",
       "4            2               164         audi       gas        std   \n",
       "..         ...               ...          ...       ...        ...   \n",
       "200         -1                95        volvo       gas        std   \n",
       "201         -1                95        volvo       gas      turbo   \n",
       "202         -1                95        volvo       gas        std   \n",
       "203         -1                95        volvo    diesel      turbo   \n",
       "204         -1                95        volvo       gas      turbo   \n",
       "\n",
       "    num-of-doors   body-style drive-wheels engine-location  wheel-base  ...  \\\n",
       "0            two  convertible          rwd           front        88.6  ...   \n",
       "1            two  convertible          rwd           front        88.6  ...   \n",
       "2            two    hatchback          rwd           front        94.5  ...   \n",
       "3           four        sedan          fwd           front        99.8  ...   \n",
       "4           four        sedan          4wd           front        99.4  ...   \n",
       "..           ...          ...          ...             ...         ...  ...   \n",
       "200         four        sedan          rwd           front       109.1  ...   \n",
       "201         four        sedan          rwd           front       109.1  ...   \n",
       "202         four        sedan          rwd           front       109.1  ...   \n",
       "203         four        sedan          rwd           front       109.1  ...   \n",
       "204         four        sedan          rwd           front       109.1  ...   \n",
       "\n",
       "     engine-size  fuel-system  bore  stroke compression-ratio horsepower  \\\n",
       "0            130         mpfi  3.47    2.68               9.0        111   \n",
       "1            130         mpfi  3.47    2.68               9.0        111   \n",
       "2            152         mpfi  2.68    3.47               9.0        154   \n",
       "3            109         mpfi  3.19     3.4              10.0        102   \n",
       "4            136         mpfi  3.19     3.4               8.0        115   \n",
       "..           ...          ...   ...     ...               ...        ...   \n",
       "200          141         mpfi  3.78    3.15               9.5        114   \n",
       "201          141         mpfi  3.78    3.15               8.7        160   \n",
       "202          173         mpfi  3.58    2.87               8.8        134   \n",
       "203          145          idi  3.01     3.4              23.0        106   \n",
       "204          141         mpfi  3.78    3.15               9.5        114   \n",
       "\n",
       "     peak-rpm city-mpg highway-mpg  price  \n",
       "0        5000       21          27  13495  \n",
       "1        5000       21          27  16500  \n",
       "2        5000       19          26  16500  \n",
       "3        5500       24          30  13950  \n",
       "4        5500       18          22  17450  \n",
       "..        ...      ...         ...    ...  \n",
       "200      5400       23          28  16845  \n",
       "201      5300       19          25  19045  \n",
       "202      5500       18          23  21485  \n",
       "203      4800       26          27  22470  \n",
       "204      5400       19          25  22625  \n",
       "\n",
       "[205 rows x 26 columns]"
      ]
     },
     "execution_count": 7,
     "metadata": {},
     "output_type": "execute_result"
    }
   ],
   "source": [
    "data = pd.read_csv(\"cars_price (1).csv\")\n",
    "data"
   ]
  },
  {
   "cell_type": "code",
   "execution_count": 8,
   "id": "20a4fa1c",
   "metadata": {},
   "outputs": [
    {
     "data": {
      "text/plain": [
       "Index(['symboling', 'normalized-losses', 'make', 'fuel-type', 'aspiration',\n",
       "       'num-of-doors', 'body-style', 'drive-wheels', 'engine-location',\n",
       "       'wheel-base', 'length', 'width', 'height', 'curb-weight', 'engine-type',\n",
       "       'num-of-cylinders', 'engine-size', 'fuel-system', 'bore', 'stroke',\n",
       "       'compression-ratio', 'horsepower', 'peak-rpm', 'city-mpg',\n",
       "       'highway-mpg', 'price'],\n",
       "      dtype='object')"
      ]
     },
     "execution_count": 8,
     "metadata": {},
     "output_type": "execute_result"
    }
   ],
   "source": [
    "data.columns"
   ]
  },
  {
   "cell_type": "code",
   "execution_count": 4,
   "id": "00792f6c",
   "metadata": {},
   "outputs": [
    {
     "name": "stdout",
     "output_type": "stream",
     "text": [
      "<class 'pandas.core.frame.DataFrame'>\n",
      "RangeIndex: 205 entries, 0 to 204\n",
      "Data columns (total 26 columns):\n",
      " #   Column             Non-Null Count  Dtype  \n",
      "---  ------             --------------  -----  \n",
      " 0   symboling          205 non-null    int64  \n",
      " 1   normalized-losses  205 non-null    object \n",
      " 2   make               205 non-null    object \n",
      " 3   fuel-type          205 non-null    object \n",
      " 4   aspiration         205 non-null    object \n",
      " 5   num-of-doors       205 non-null    object \n",
      " 6   body-style         205 non-null    object \n",
      " 7   drive-wheels       205 non-null    object \n",
      " 8   engine-location    205 non-null    object \n",
      " 9   wheel-base         205 non-null    float64\n",
      " 10  length             205 non-null    float64\n",
      " 11  width              205 non-null    float64\n",
      " 12  height             205 non-null    float64\n",
      " 13  curb-weight        205 non-null    int64  \n",
      " 14  engine-type        205 non-null    object \n",
      " 15  num-of-cylinders   205 non-null    object \n",
      " 16  engine-size        205 non-null    int64  \n",
      " 17  fuel-system        205 non-null    object \n",
      " 18  bore               205 non-null    object \n",
      " 19  stroke             205 non-null    object \n",
      " 20  compression-ratio  205 non-null    float64\n",
      " 21  horsepower         205 non-null    object \n",
      " 22  peak-rpm           205 non-null    object \n",
      " 23  city-mpg           205 non-null    int64  \n",
      " 24  highway-mpg        205 non-null    int64  \n",
      " 25  price              205 non-null    object \n",
      "dtypes: float64(5), int64(5), object(16)\n",
      "memory usage: 41.8+ KB\n"
     ]
    }
   ],
   "source": [
    "data.info()"
   ]
  },
  {
   "cell_type": "markdown",
   "id": "31dda886",
   "metadata": {},
   "source": [
    "## Null value checking"
   ]
  },
  {
   "cell_type": "code",
   "execution_count": 9,
   "id": "df63c128",
   "metadata": {},
   "outputs": [
    {
     "data": {
      "text/html": [
       "<div>\n",
       "<style scoped>\n",
       "    .dataframe tbody tr th:only-of-type {\n",
       "        vertical-align: middle;\n",
       "    }\n",
       "\n",
       "    .dataframe tbody tr th {\n",
       "        vertical-align: top;\n",
       "    }\n",
       "\n",
       "    .dataframe thead th {\n",
       "        text-align: right;\n",
       "    }\n",
       "</style>\n",
       "<table border=\"1\" class=\"dataframe\">\n",
       "  <thead>\n",
       "    <tr style=\"text-align: right;\">\n",
       "      <th></th>\n",
       "      <th>symboling</th>\n",
       "      <th>normalized-losses</th>\n",
       "      <th>make</th>\n",
       "      <th>fuel-type</th>\n",
       "      <th>aspiration</th>\n",
       "      <th>num-of-doors</th>\n",
       "      <th>body-style</th>\n",
       "      <th>drive-wheels</th>\n",
       "      <th>engine-location</th>\n",
       "      <th>wheel-base</th>\n",
       "      <th>...</th>\n",
       "      <th>engine-size</th>\n",
       "      <th>fuel-system</th>\n",
       "      <th>bore</th>\n",
       "      <th>stroke</th>\n",
       "      <th>compression-ratio</th>\n",
       "      <th>horsepower</th>\n",
       "      <th>peak-rpm</th>\n",
       "      <th>city-mpg</th>\n",
       "      <th>highway-mpg</th>\n",
       "      <th>price</th>\n",
       "    </tr>\n",
       "  </thead>\n",
       "  <tbody>\n",
       "    <tr>\n",
       "      <th>0</th>\n",
       "      <td>3</td>\n",
       "      <td>NaN</td>\n",
       "      <td>alfa-romero</td>\n",
       "      <td>gas</td>\n",
       "      <td>std</td>\n",
       "      <td>two</td>\n",
       "      <td>convertible</td>\n",
       "      <td>rwd</td>\n",
       "      <td>front</td>\n",
       "      <td>88.6</td>\n",
       "      <td>...</td>\n",
       "      <td>130</td>\n",
       "      <td>mpfi</td>\n",
       "      <td>3.47</td>\n",
       "      <td>2.68</td>\n",
       "      <td>9.0</td>\n",
       "      <td>111</td>\n",
       "      <td>5000</td>\n",
       "      <td>21</td>\n",
       "      <td>27</td>\n",
       "      <td>13495</td>\n",
       "    </tr>\n",
       "    <tr>\n",
       "      <th>1</th>\n",
       "      <td>3</td>\n",
       "      <td>NaN</td>\n",
       "      <td>alfa-romero</td>\n",
       "      <td>gas</td>\n",
       "      <td>std</td>\n",
       "      <td>two</td>\n",
       "      <td>convertible</td>\n",
       "      <td>rwd</td>\n",
       "      <td>front</td>\n",
       "      <td>88.6</td>\n",
       "      <td>...</td>\n",
       "      <td>130</td>\n",
       "      <td>mpfi</td>\n",
       "      <td>3.47</td>\n",
       "      <td>2.68</td>\n",
       "      <td>9.0</td>\n",
       "      <td>111</td>\n",
       "      <td>5000</td>\n",
       "      <td>21</td>\n",
       "      <td>27</td>\n",
       "      <td>16500</td>\n",
       "    </tr>\n",
       "    <tr>\n",
       "      <th>2</th>\n",
       "      <td>1</td>\n",
       "      <td>NaN</td>\n",
       "      <td>alfa-romero</td>\n",
       "      <td>gas</td>\n",
       "      <td>std</td>\n",
       "      <td>two</td>\n",
       "      <td>hatchback</td>\n",
       "      <td>rwd</td>\n",
       "      <td>front</td>\n",
       "      <td>94.5</td>\n",
       "      <td>...</td>\n",
       "      <td>152</td>\n",
       "      <td>mpfi</td>\n",
       "      <td>2.68</td>\n",
       "      <td>3.47</td>\n",
       "      <td>9.0</td>\n",
       "      <td>154</td>\n",
       "      <td>5000</td>\n",
       "      <td>19</td>\n",
       "      <td>26</td>\n",
       "      <td>16500</td>\n",
       "    </tr>\n",
       "    <tr>\n",
       "      <th>3</th>\n",
       "      <td>2</td>\n",
       "      <td>164</td>\n",
       "      <td>audi</td>\n",
       "      <td>gas</td>\n",
       "      <td>std</td>\n",
       "      <td>four</td>\n",
       "      <td>sedan</td>\n",
       "      <td>fwd</td>\n",
       "      <td>front</td>\n",
       "      <td>99.8</td>\n",
       "      <td>...</td>\n",
       "      <td>109</td>\n",
       "      <td>mpfi</td>\n",
       "      <td>3.19</td>\n",
       "      <td>3.4</td>\n",
       "      <td>10.0</td>\n",
       "      <td>102</td>\n",
       "      <td>5500</td>\n",
       "      <td>24</td>\n",
       "      <td>30</td>\n",
       "      <td>13950</td>\n",
       "    </tr>\n",
       "    <tr>\n",
       "      <th>4</th>\n",
       "      <td>2</td>\n",
       "      <td>164</td>\n",
       "      <td>audi</td>\n",
       "      <td>gas</td>\n",
       "      <td>std</td>\n",
       "      <td>four</td>\n",
       "      <td>sedan</td>\n",
       "      <td>4wd</td>\n",
       "      <td>front</td>\n",
       "      <td>99.4</td>\n",
       "      <td>...</td>\n",
       "      <td>136</td>\n",
       "      <td>mpfi</td>\n",
       "      <td>3.19</td>\n",
       "      <td>3.4</td>\n",
       "      <td>8.0</td>\n",
       "      <td>115</td>\n",
       "      <td>5500</td>\n",
       "      <td>18</td>\n",
       "      <td>22</td>\n",
       "      <td>17450</td>\n",
       "    </tr>\n",
       "  </tbody>\n",
       "</table>\n",
       "<p>5 rows × 26 columns</p>\n",
       "</div>"
      ],
      "text/plain": [
       "   symboling normalized-losses         make fuel-type aspiration num-of-doors  \\\n",
       "0          3               NaN  alfa-romero       gas        std          two   \n",
       "1          3               NaN  alfa-romero       gas        std          two   \n",
       "2          1               NaN  alfa-romero       gas        std          two   \n",
       "3          2               164         audi       gas        std         four   \n",
       "4          2               164         audi       gas        std         four   \n",
       "\n",
       "    body-style drive-wheels engine-location  wheel-base  ...  engine-size  \\\n",
       "0  convertible          rwd           front        88.6  ...          130   \n",
       "1  convertible          rwd           front        88.6  ...          130   \n",
       "2    hatchback          rwd           front        94.5  ...          152   \n",
       "3        sedan          fwd           front        99.8  ...          109   \n",
       "4        sedan          4wd           front        99.4  ...          136   \n",
       "\n",
       "   fuel-system  bore  stroke compression-ratio horsepower  peak-rpm city-mpg  \\\n",
       "0         mpfi  3.47    2.68               9.0        111      5000       21   \n",
       "1         mpfi  3.47    2.68               9.0        111      5000       21   \n",
       "2         mpfi  2.68    3.47               9.0        154      5000       19   \n",
       "3         mpfi  3.19     3.4              10.0        102      5500       24   \n",
       "4         mpfi  3.19     3.4               8.0        115      5500       18   \n",
       "\n",
       "  highway-mpg  price  \n",
       "0          27  13495  \n",
       "1          27  16500  \n",
       "2          26  16500  \n",
       "3          30  13950  \n",
       "4          22  17450  \n",
       "\n",
       "[5 rows x 26 columns]"
      ]
     },
     "execution_count": 9,
     "metadata": {},
     "output_type": "execute_result"
    }
   ],
   "source": [
    "# replacing the ? with nan values in entire dataset\n",
    "data.replace(\"?\",np.nan,inplace = True)\n",
    "data.head(5)"
   ]
  },
  {
   "cell_type": "code",
   "execution_count": 10,
   "id": "eb20a566",
   "metadata": {},
   "outputs": [
    {
     "data": {
      "text/plain": [
       "symboling             0\n",
       "normalized-losses    41\n",
       "make                  0\n",
       "fuel-type             0\n",
       "aspiration            0\n",
       "num-of-doors          2\n",
       "body-style            0\n",
       "drive-wheels          0\n",
       "engine-location       0\n",
       "wheel-base            0\n",
       "length                0\n",
       "width                 0\n",
       "height                0\n",
       "curb-weight           0\n",
       "engine-type           0\n",
       "num-of-cylinders      0\n",
       "engine-size           0\n",
       "fuel-system           0\n",
       "bore                  4\n",
       "stroke                4\n",
       "compression-ratio     0\n",
       "horsepower            2\n",
       "peak-rpm              2\n",
       "city-mpg              0\n",
       "highway-mpg           0\n",
       "price                 4\n",
       "dtype: int64"
      ]
     },
     "execution_count": 10,
     "metadata": {},
     "output_type": "execute_result"
    }
   ],
   "source": [
    "data.isnull().sum()"
   ]
  },
  {
   "cell_type": "code",
   "execution_count": 11,
   "id": "d8f458a0",
   "metadata": {},
   "outputs": [
    {
     "data": {
      "text/plain": [
       "array(['alfa-romero', 'audi', 'bmw', 'chevrolet', 'dodge', 'honda',\n",
       "       'isuzu', 'jaguar', 'mazda', 'mercedes-benz', 'mercury',\n",
       "       'mitsubishi', 'nissan', 'peugot', 'plymouth', 'porsche', 'renault',\n",
       "       'saab', 'subaru', 'toyota', 'volkswagen', 'volvo'], dtype=object)"
      ]
     },
     "execution_count": 11,
     "metadata": {},
     "output_type": "execute_result"
    }
   ],
   "source": [
    "data[\"make\"].unique()"
   ]
  },
  {
   "cell_type": "code",
   "execution_count": 12,
   "id": "0e4b0bda",
   "metadata": {},
   "outputs": [
    {
     "data": {
      "text/plain": [
       "array(['gas', 'diesel'], dtype=object)"
      ]
     },
     "execution_count": 12,
     "metadata": {},
     "output_type": "execute_result"
    }
   ],
   "source": [
    "data[\"fuel-type\"].unique()"
   ]
  },
  {
   "cell_type": "code",
   "execution_count": 13,
   "id": "328f8a1d",
   "metadata": {},
   "outputs": [
    {
     "data": {
      "text/plain": [
       "array(['std', 'turbo'], dtype=object)"
      ]
     },
     "execution_count": 13,
     "metadata": {},
     "output_type": "execute_result"
    }
   ],
   "source": [
    "data[\"aspiration\"].unique()"
   ]
  },
  {
   "cell_type": "code",
   "execution_count": 12,
   "id": "efde7c64",
   "metadata": {},
   "outputs": [
    {
     "data": {
      "text/plain": [
       "122.0"
      ]
     },
     "execution_count": 12,
     "metadata": {},
     "output_type": "execute_result"
    }
   ],
   "source": [
    "# finding mean of normalized-losses column\n",
    "n_mean = data[\"normalized-losses\"].astype(\"float\").mean()\n",
    "n_mean"
   ]
  },
  {
   "cell_type": "code",
   "execution_count": 13,
   "id": "e7524657",
   "metadata": {},
   "outputs": [],
   "source": [
    "# replacing the nan values with mean \n",
    "data[\"normalized-losses\"] = data[\"normalized-losses\"].replace(np.nan,n_mean)\n"
   ]
  },
  {
   "cell_type": "code",
   "execution_count": 14,
   "id": "787a39cc",
   "metadata": {},
   "outputs": [
    {
     "data": {
      "text/plain": [
       "3.3297512437810957"
      ]
     },
     "execution_count": 14,
     "metadata": {},
     "output_type": "execute_result"
    }
   ],
   "source": [
    "# finding mean of bore column\n",
    "b_mean = data[\"bore\"].astype(\"float\").mean()\n",
    "b_mean"
   ]
  },
  {
   "cell_type": "code",
   "execution_count": 15,
   "id": "5f2986cf",
   "metadata": {},
   "outputs": [],
   "source": [
    "# replacing the nan values with mean\n",
    "data[\"bore\"] = data[\"bore\"].replace(np.nan,b_mean)"
   ]
  },
  {
   "cell_type": "code",
   "execution_count": 16,
   "id": "0db13900",
   "metadata": {},
   "outputs": [
    {
     "data": {
      "text/plain": [
       "3.2554228855721337"
      ]
     },
     "execution_count": 16,
     "metadata": {},
     "output_type": "execute_result"
    }
   ],
   "source": [
    "# finding mean of stroke column\n",
    "s_mean = data[\"stroke\"].astype(\"float\").mean()\n",
    "s_mean"
   ]
  },
  {
   "cell_type": "code",
   "execution_count": 17,
   "id": "c2c4c1ec",
   "metadata": {},
   "outputs": [],
   "source": [
    "# replacing the nan values with mean\n",
    "data[\"stroke\"] = data[\"stroke\"].replace(np.nan,s_mean)"
   ]
  },
  {
   "cell_type": "code",
   "execution_count": 18,
   "id": "6b234638",
   "metadata": {},
   "outputs": [
    {
     "data": {
      "text/plain": [
       "104.25615763546799"
      ]
     },
     "execution_count": 18,
     "metadata": {},
     "output_type": "execute_result"
    }
   ],
   "source": [
    "# finding mean of horsepower column\n",
    "h_mean = data[\"horsepower\"].astype(\"float\").mean()\n",
    "h_mean"
   ]
  },
  {
   "cell_type": "code",
   "execution_count": 19,
   "id": "6d60d3c7",
   "metadata": {},
   "outputs": [],
   "source": [
    "# replacing the nan values with mean\n",
    "data[\"horsepower\"] = data[\"horsepower\"].replace(np.nan,h_mean)"
   ]
  },
  {
   "cell_type": "code",
   "execution_count": 20,
   "id": "836465f9",
   "metadata": {},
   "outputs": [
    {
     "data": {
      "text/plain": [
       "5125.369458128079"
      ]
     },
     "execution_count": 20,
     "metadata": {},
     "output_type": "execute_result"
    }
   ],
   "source": [
    "# finding mean of peak-rpm column\n",
    "p_mean = data[\"peak-rpm\"].astype(\"float\").mean()\n",
    "p_mean"
   ]
  },
  {
   "cell_type": "code",
   "execution_count": 21,
   "id": "c99dd34f",
   "metadata": {},
   "outputs": [],
   "source": [
    "# replacing the nan values with mean\n",
    "data[\"peak-rpm\"] = data[\"peak-rpm\"].replace(np.nan,p_mean)"
   ]
  },
  {
   "cell_type": "code",
   "execution_count": 22,
   "id": "b157bdaf",
   "metadata": {},
   "outputs": [
    {
     "data": {
      "text/plain": [
       "13207.129353233831"
      ]
     },
     "execution_count": 22,
     "metadata": {},
     "output_type": "execute_result"
    }
   ],
   "source": [
    "# finding mean of price column\n",
    "price_mean = data[\"price\"].astype(\"float\").mean()\n",
    "price_mean"
   ]
  },
  {
   "cell_type": "code",
   "execution_count": 23,
   "id": "465b9eb2",
   "metadata": {},
   "outputs": [],
   "source": [
    "# replacing the nan values with mean\n",
    "data[\"price\"] = data[\"price\"].replace(np.nan, price_mean)"
   ]
  },
  {
   "cell_type": "markdown",
   "id": "4bf07dfe",
   "metadata": {},
   "source": [
    "Above columns are numerical columns so we use mean value to replace it"
   ]
  },
  {
   "cell_type": "code",
   "execution_count": 24,
   "id": "067fa3b8",
   "metadata": {},
   "outputs": [
    {
     "data": {
      "text/plain": [
       "four    114\n",
       "two      89\n",
       "Name: num-of-doors, dtype: int64"
      ]
     },
     "execution_count": 24,
     "metadata": {},
     "output_type": "execute_result"
    }
   ],
   "source": [
    "data[\"num-of-doors\"].value_counts()"
   ]
  },
  {
   "cell_type": "code",
   "execution_count": 25,
   "id": "750b7e9a",
   "metadata": {},
   "outputs": [],
   "source": [
    "# usinf most frequent value to replace the nan values\n",
    "data[\"num-of-doors\"] = data[\"num-of-doors\"].replace(np.nan, \"four\")"
   ]
  },
  {
   "cell_type": "code",
   "execution_count": 26,
   "id": "40c36c9e",
   "metadata": {},
   "outputs": [
    {
     "data": {
      "text/plain": [
       "symboling            0\n",
       "normalized-losses    0\n",
       "make                 0\n",
       "fuel-type            0\n",
       "aspiration           0\n",
       "num-of-doors         0\n",
       "body-style           0\n",
       "drive-wheels         0\n",
       "engine-location      0\n",
       "wheel-base           0\n",
       "length               0\n",
       "width                0\n",
       "height               0\n",
       "curb-weight          0\n",
       "engine-type          0\n",
       "num-of-cylinders     0\n",
       "engine-size          0\n",
       "fuel-system          0\n",
       "bore                 0\n",
       "stroke               0\n",
       "compression-ratio    0\n",
       "horsepower           0\n",
       "peak-rpm             0\n",
       "city-mpg             0\n",
       "highway-mpg          0\n",
       "price                0\n",
       "dtype: int64"
      ]
     },
     "execution_count": 26,
     "metadata": {},
     "output_type": "execute_result"
    }
   ],
   "source": [
    "data.isnull().sum()"
   ]
  },
  {
   "cell_type": "markdown",
   "id": "ef8dc569",
   "metadata": {},
   "source": [
    "# Exploratory Data Analysis"
   ]
  },
  {
   "cell_type": "code",
   "execution_count": 27,
   "id": "83a70be3",
   "metadata": {},
   "outputs": [
    {
     "data": {
      "text/html": [
       "<div>\n",
       "<style scoped>\n",
       "    .dataframe tbody tr th:only-of-type {\n",
       "        vertical-align: middle;\n",
       "    }\n",
       "\n",
       "    .dataframe tbody tr th {\n",
       "        vertical-align: top;\n",
       "    }\n",
       "\n",
       "    .dataframe thead th {\n",
       "        text-align: right;\n",
       "    }\n",
       "</style>\n",
       "<table border=\"1\" class=\"dataframe\">\n",
       "  <thead>\n",
       "    <tr style=\"text-align: right;\">\n",
       "      <th></th>\n",
       "      <th>fuel_type</th>\n",
       "      <th>counts</th>\n",
       "    </tr>\n",
       "  </thead>\n",
       "  <tbody>\n",
       "    <tr>\n",
       "      <th>0</th>\n",
       "      <td>gas</td>\n",
       "      <td>185</td>\n",
       "    </tr>\n",
       "    <tr>\n",
       "      <th>1</th>\n",
       "      <td>diesel</td>\n",
       "      <td>20</td>\n",
       "    </tr>\n",
       "  </tbody>\n",
       "</table>\n",
       "</div>"
      ],
      "text/plain": [
       "  fuel_type  counts\n",
       "0       gas     185\n",
       "1    diesel      20"
      ]
     },
     "execution_count": 27,
     "metadata": {},
     "output_type": "execute_result"
    }
   ],
   "source": [
    "f_type = data[\"fuel-type\"].value_counts().to_frame().reset_index()\n",
    "f_type.columns=[\"fuel_type\",\"counts\"]\n",
    "f_type"
   ]
  },
  {
   "cell_type": "code",
   "execution_count": 28,
   "id": "f1b9e3aa",
   "metadata": {},
   "outputs": [
    {
     "data": {
      "image/png": "[encoded data removed]",
      "text/plain": [
       "<Figure size 640x480 with 1 Axes>"
      ]
     },
     "metadata": {},
     "output_type": "display_data"
    }
   ],
   "source": [
    "sns.countplot(x=data[\"fuel-type\"])\n",
    "plt.title(\"Fuel-type of the car counts\",fontsize = 15)\n",
    "plt.show()"
   ]
  },
  {
   "cell_type": "markdown",
   "id": "770995f5",
   "metadata": {},
   "source": [
    "### Gas fuel type car is more in number"
   ]
  },
  {
   "cell_type": "code",
   "execution_count": 21,
   "id": "25f5fae8",
   "metadata": {},
   "outputs": [
    {
     "data": {
      "text/html": [
       "<div>\n",
       "<style scoped>\n",
       "    .dataframe tbody tr th:only-of-type {\n",
       "        vertical-align: middle;\n",
       "    }\n",
       "\n",
       "    .dataframe tbody tr th {\n",
       "        vertical-align: top;\n",
       "    }\n",
       "\n",
       "    .dataframe thead th {\n",
       "        text-align: right;\n",
       "    }\n",
       "</style>\n",
       "<table border=\"1\" class=\"dataframe\">\n",
       "  <thead>\n",
       "    <tr style=\"text-align: right;\">\n",
       "      <th></th>\n",
       "      <th>num-of-cylinders</th>\n",
       "      <th>counts</th>\n",
       "    </tr>\n",
       "  </thead>\n",
       "  <tbody>\n",
       "    <tr>\n",
       "      <th>0</th>\n",
       "      <td>four</td>\n",
       "      <td>159</td>\n",
       "    </tr>\n",
       "    <tr>\n",
       "      <th>1</th>\n",
       "      <td>six</td>\n",
       "      <td>24</td>\n",
       "    </tr>\n",
       "    <tr>\n",
       "      <th>2</th>\n",
       "      <td>five</td>\n",
       "      <td>11</td>\n",
       "    </tr>\n",
       "    <tr>\n",
       "      <th>3</th>\n",
       "      <td>eight</td>\n",
       "      <td>5</td>\n",
       "    </tr>\n",
       "    <tr>\n",
       "      <th>4</th>\n",
       "      <td>two</td>\n",
       "      <td>4</td>\n",
       "    </tr>\n",
       "    <tr>\n",
       "      <th>5</th>\n",
       "      <td>three</td>\n",
       "      <td>1</td>\n",
       "    </tr>\n",
       "    <tr>\n",
       "      <th>6</th>\n",
       "      <td>twelve</td>\n",
       "      <td>1</td>\n",
       "    </tr>\n",
       "  </tbody>\n",
       "</table>\n",
       "</div>"
      ],
      "text/plain": [
       "  num-of-cylinders  counts\n",
       "0             four     159\n",
       "1              six      24\n",
       "2             five      11\n",
       "3            eight       5\n",
       "4              two       4\n",
       "5            three       1\n",
       "6           twelve       1"
      ]
     },
     "execution_count": 21,
     "metadata": {},
     "output_type": "execute_result"
    }
   ],
   "source": [
    "n_cylinder = data[\"num-of-cylinders\"].value_counts().to_frame().reset_index()\n",
    "n_cylinder.columns=[\"num-of-cylinders\",\"counts\"]\n",
    "n_cylinder"
   ]
  },
  {
   "cell_type": "code",
   "execution_count": 22,
   "id": "b85bf059",
   "metadata": {},
   "outputs": [
    {
     "data": {
      "image/png": "[encoded data removed]",
      "text/plain": [
       "<Figure size 640x480 with 1 Axes>"
      ]
     },
     "metadata": {},
     "output_type": "display_data"
    }
   ],
   "source": [
    "\n",
    "bar_p = sns.barplot(x = n_cylinder[\"num-of-cylinders\"],y = n_cylinder[\"counts\"])\n",
    "#bar_p.set_xticklabels(labels= data,rotation = 90)\n",
    "bar_p.set_xlabel(\"Number of Cylinders\",fontsize= 10)\n",
    "bar_p.set_ylabel(\"Car Counts\",fontsize= 10)\n",
    "bar_p.set_title(\"Number of Cylinder Vs Car\" ,fontsize= 15,fontweight = \"bold\")\n",
    "plt.show()"
   ]
  },
  {
   "cell_type": "markdown",
   "id": "bd858d56",
   "metadata": {},
   "source": [
    "### Four cylinder car is more in number then any other numbers"
   ]
  },
  {
   "cell_type": "code",
   "execution_count": 23,
   "id": "1abd9676",
   "metadata": {},
   "outputs": [
    {
     "data": {
      "text/html": [
       "<div>\n",
       "<style scoped>\n",
       "    .dataframe tbody tr th:only-of-type {\n",
       "        vertical-align: middle;\n",
       "    }\n",
       "\n",
       "    .dataframe tbody tr th {\n",
       "        vertical-align: top;\n",
       "    }\n",
       "\n",
       "    .dataframe thead th {\n",
       "        text-align: right;\n",
       "    }\n",
       "</style>\n",
       "<table border=\"1\" class=\"dataframe\">\n",
       "  <thead>\n",
       "    <tr style=\"text-align: right;\">\n",
       "      <th></th>\n",
       "      <th>engine-location</th>\n",
       "      <th>counts</th>\n",
       "    </tr>\n",
       "  </thead>\n",
       "  <tbody>\n",
       "    <tr>\n",
       "      <th>0</th>\n",
       "      <td>front</td>\n",
       "      <td>202</td>\n",
       "    </tr>\n",
       "    <tr>\n",
       "      <th>1</th>\n",
       "      <td>rear</td>\n",
       "      <td>3</td>\n",
       "    </tr>\n",
       "  </tbody>\n",
       "</table>\n",
       "</div>"
      ],
      "text/plain": [
       "  engine-location  counts\n",
       "0           front     202\n",
       "1            rear       3"
      ]
     },
     "execution_count": 23,
     "metadata": {},
     "output_type": "execute_result"
    }
   ],
   "source": [
    "# Car engine\n",
    "engine_loc = data[\"engine-location\"].value_counts().to_frame().reset_index()\n",
    "engine_loc.columns=[\"engine-location\",\"counts\"]\n",
    "engine_loc\n"
   ]
  },
  {
   "cell_type": "code",
   "execution_count": 24,
   "id": "63644389",
   "metadata": {},
   "outputs": [
    {
     "data": {
      "image/png": "[encoded data removed]",
      "text/plain": [
       "<Figure size 640x480 with 1 Axes>"
      ]
     },
     "metadata": {},
     "output_type": "display_data"
    }
   ],
   "source": [
    "plt.pie(x=engine_loc[\"counts\"], labels =engine_loc[\"engine-location\"],autopct='%.f%%')\n",
    "plt.title(\"Engine location in car\")\n",
    "plt.show()"
   ]
  },
  {
   "cell_type": "markdown",
   "id": "35f51f33",
   "metadata": {},
   "source": [
    "### About 99% of the car having front engine"
   ]
  },
  {
   "cell_type": "code",
   "execution_count": 44,
   "id": "7d57cf61",
   "metadata": {},
   "outputs": [
    {
     "data": {
      "text/plain": [
       "array(['dohc', 'ohcv', 'ohc', 'l', 'rotor', 'ohcf', 'dohcv'], dtype=object)"
      ]
     },
     "execution_count": 44,
     "metadata": {},
     "output_type": "execute_result"
    }
   ],
   "source": [
    "data[\"engine-type\"].unique()"
   ]
  },
  {
   "cell_type": "code",
   "execution_count": 45,
   "id": "f68ed4bc",
   "metadata": {},
   "outputs": [
    {
     "data": {
      "text/plain": [
       "array(['four', 'six', 'five', 'three', 'twelve', 'two', 'eight'],\n",
       "      dtype=object)"
      ]
     },
     "execution_count": 45,
     "metadata": {},
     "output_type": "execute_result"
    }
   ],
   "source": [
    "data[\"num-of-cylinders\"].unique()"
   ]
  },
  {
   "cell_type": "code",
   "execution_count": 29,
   "id": "2900ed57",
   "metadata": {},
   "outputs": [],
   "source": [
    "data[\"num-of-cylinders\"] = data[\"num-of-cylinders\"].replace(\"four\",4)"
   ]
  },
  {
   "cell_type": "code",
   "execution_count": 30,
   "id": "3d114d75",
   "metadata": {},
   "outputs": [],
   "source": [
    "data[\"num-of-cylinders\"] = data[\"num-of-cylinders\"].replace(\"six\",6)"
   ]
  },
  {
   "cell_type": "code",
   "execution_count": 31,
   "id": "b40509e0",
   "metadata": {},
   "outputs": [],
   "source": [
    "data[\"num-of-cylinders\"] = data[\"num-of-cylinders\"].replace(\"five\",5)"
   ]
  },
  {
   "cell_type": "code",
   "execution_count": 32,
   "id": "81c01bf8",
   "metadata": {},
   "outputs": [],
   "source": [
    "data[\"num-of-cylinders\"] = data[\"num-of-cylinders\"].replace(\"three\",3)"
   ]
  },
  {
   "cell_type": "code",
   "execution_count": 33,
   "id": "ec39687b",
   "metadata": {},
   "outputs": [],
   "source": [
    "data[\"num-of-cylinders\"] = data[\"num-of-cylinders\"].replace(\"twelve\",12)"
   ]
  },
  {
   "cell_type": "code",
   "execution_count": 34,
   "id": "e8b53a12",
   "metadata": {},
   "outputs": [],
   "source": [
    "data[\"num-of-cylinders\"] = data[\"num-of-cylinders\"].replace(\"two\",2)"
   ]
  },
  {
   "cell_type": "code",
   "execution_count": 35,
   "id": "0997fcbe",
   "metadata": {},
   "outputs": [],
   "source": [
    "data[\"num-of-cylinders\"] = data[\"num-of-cylinders\"].replace(\"eight\",8)"
   ]
  },
  {
   "cell_type": "code",
   "execution_count": 36,
   "id": "d79f5df3",
   "metadata": {},
   "outputs": [],
   "source": [
    "data[\"num-of-cylinders\"] = data[\"num-of-cylinders\"].astype(\"int\")"
   ]
  },
  {
   "cell_type": "code",
   "execution_count": 37,
   "id": "89ec0c27",
   "metadata": {},
   "outputs": [],
   "source": [
    "data[\"num-of-doors\"] = data[\"num-of-doors\"].replace(\"four\",4)"
   ]
  },
  {
   "cell_type": "code",
   "execution_count": 38,
   "id": "39cac680",
   "metadata": {},
   "outputs": [],
   "source": [
    "data[\"num-of-doors\"] = data[\"num-of-doors\"].replace(\"two\",2)"
   ]
  },
  {
   "cell_type": "code",
   "execution_count": 39,
   "id": "75e59ba8",
   "metadata": {},
   "outputs": [],
   "source": [
    "data[\"num-of-doors\"] = data[\"num-of-doors\"].astype(\"int\")"
   ]
  },
  {
   "cell_type": "code",
   "execution_count": 40,
   "id": "158c44f5",
   "metadata": {},
   "outputs": [],
   "source": [
    "data[\"bore\"] = data[\"bore\"].astype(\"float\")"
   ]
  },
  {
   "cell_type": "code",
   "execution_count": 41,
   "id": "f59635f0",
   "metadata": {},
   "outputs": [],
   "source": [
    "data[\"stroke\"] = data[\"stroke\"].astype(\"float\")"
   ]
  },
  {
   "cell_type": "code",
   "execution_count": 42,
   "id": "77530ed3",
   "metadata": {},
   "outputs": [],
   "source": [
    "data[\"horsepower\"] = data[\"horsepower\"].astype(\"float\")"
   ]
  },
  {
   "cell_type": "code",
   "execution_count": 43,
   "id": "2a1a0845",
   "metadata": {},
   "outputs": [],
   "source": [
    "data[\"peak-rpm\"] = data[\"peak-rpm\"].astype(\"float\")"
   ]
  },
  {
   "cell_type": "code",
   "execution_count": 44,
   "id": "9280c83e",
   "metadata": {},
   "outputs": [],
   "source": [
    "data[\"price\"] = data[\"price\"].astype(\"float\")"
   ]
  },
  {
   "cell_type": "code",
   "execution_count": 45,
   "id": "06210775",
   "metadata": {},
   "outputs": [],
   "source": [
    "data[\"normalized-losses\"] = data[\"normalized-losses\"].astype(\"float\")"
   ]
  },
  {
   "cell_type": "code",
   "execution_count": 46,
   "id": "7fdfad2d",
   "metadata": {},
   "outputs": [
    {
     "data": {
      "text/plain": [
       "symboling              int64\n",
       "normalized-losses    float64\n",
       "make                  object\n",
       "fuel-type             object\n",
       "aspiration            object\n",
       "num-of-doors           int32\n",
       "body-style            object\n",
       "drive-wheels          object\n",
       "engine-location       object\n",
       "wheel-base           float64\n",
       "length               float64\n",
       "width                float64\n",
       "height               float64\n",
       "curb-weight            int64\n",
       "engine-type           object\n",
       "num-of-cylinders       int32\n",
       "engine-size            int64\n",
       "fuel-system           object\n",
       "bore                 float64\n",
       "stroke               float64\n",
       "compression-ratio    float64\n",
       "horsepower           float64\n",
       "peak-rpm             float64\n",
       "city-mpg               int64\n",
       "highway-mpg            int64\n",
       "price                float64\n",
       "dtype: object"
      ]
     },
     "execution_count": 46,
     "metadata": {},
     "output_type": "execute_result"
    }
   ],
   "source": [
    "data.dtypes\n"
   ]
  },
  {
   "cell_type": "code",
   "execution_count": 47,
   "id": "c5fe658b",
   "metadata": {},
   "outputs": [
    {
     "data": {
      "image/png": "[encoded data removed]",
      "text/plain": [
       "<Figure size 2500x800 with 1 Axes>"
      ]
     },
     "metadata": {},
     "output_type": "display_data"
    }
   ],
   "source": [
    "fig = plt.figure(figsize=(25,8))\n",
    "bar_p = sns.barplot(x = data[\"make\"],y = data[\"price\"])\n",
    "#bar_p.set_xticklabels(labels= data,rotation = 90)\n",
    "bar_p.set_xlabel(\"Car Brand\",fontsize= 20)\n",
    "bar_p.set_ylabel(\"car Price\",fontsize= 20)\n",
    "bar_p.set_title(\"Price of the car brands \",fontsize= 30,fontweight = \"bold\")\n",
    "plt.show()"
   ]
  },
  {
   "cell_type": "markdown",
   "id": "dfe6149e",
   "metadata": {},
   "source": [
    "### From the above bar plot we see that mercedes-benz and jaguar are in higher price range"
   ]
  },
  {
   "cell_type": "code",
   "execution_count": 73,
   "id": "d328a68b",
   "metadata": {},
   "outputs": [
    {
     "data": {
      "text/plain": [
       "sedan          96\n",
       "hatchback      70\n",
       "wagon          25\n",
       "hardtop         8\n",
       "convertible     6\n",
       "Name: body-style, dtype: int64"
      ]
     },
     "execution_count": 73,
     "metadata": {},
     "output_type": "execute_result"
    }
   ],
   "source": [
    "data[\"body-style\"].value_counts()"
   ]
  },
  {
   "cell_type": "code",
   "execution_count": 74,
   "id": "e851a956",
   "metadata": {},
   "outputs": [
    {
     "data": {
      "text/plain": [
       "fwd    120\n",
       "rwd     76\n",
       "4wd      9\n",
       "Name: drive-wheels, dtype: int64"
      ]
     },
     "execution_count": 74,
     "metadata": {},
     "output_type": "execute_result"
    }
   ],
   "source": [
    "data[\"drive-wheels\"].value_counts()"
   ]
  },
  {
   "cell_type": "code",
   "execution_count": 75,
   "id": "14dd8ed4",
   "metadata": {},
   "outputs": [
    {
     "data": {
      "text/plain": [
       "front    202\n",
       "rear       3\n",
       "Name: engine-location, dtype: int64"
      ]
     },
     "execution_count": 75,
     "metadata": {},
     "output_type": "execute_result"
    }
   ],
   "source": [
    "data[\"engine-location\"].value_counts()"
   ]
  },
  {
   "cell_type": "code",
   "execution_count": 76,
   "id": "dcd2da56",
   "metadata": {},
   "outputs": [
    {
     "data": {
      "text/plain": [
       "mpfi    94\n",
       "2bbl    66\n",
       "idi     20\n",
       "1bbl    11\n",
       "spdi     9\n",
       "4bbl     3\n",
       "mfi      1\n",
       "spfi     1\n",
       "Name: fuel-system, dtype: int64"
      ]
     },
     "execution_count": 76,
     "metadata": {},
     "output_type": "execute_result"
    }
   ],
   "source": [
    "data[\"fuel-system\"].value_counts()"
   ]
  },
  {
   "cell_type": "code",
   "execution_count": 77,
   "id": "c4ab487a",
   "metadata": {},
   "outputs": [
    {
     "data": {
      "text/plain": [
       "ohc      148\n",
       "ohcf      15\n",
       "ohcv      13\n",
       "dohc      12\n",
       "l         12\n",
       "rotor      4\n",
       "dohcv      1\n",
       "Name: engine-type, dtype: int64"
      ]
     },
     "execution_count": 77,
     "metadata": {},
     "output_type": "execute_result"
    }
   ],
   "source": [
    "data[\"engine-type\"].value_counts()"
   ]
  },
  {
   "cell_type": "code",
   "execution_count": 48,
   "id": "fbd380d7",
   "metadata": {},
   "outputs": [
    {
     "data": {
      "image/png": "[encoded data removed]",
      "text/plain": [
       "<Figure size 640x480 with 1 Axes>"
      ]
     },
     "metadata": {},
     "output_type": "display_data"
    }
   ],
   "source": [
    "sns.countplot(x=data[\"body-style\"])\n",
    "plt.title(\"Count of each body_style\")\n",
    "plt.show()"
   ]
  },
  {
   "cell_type": "markdown",
   "id": "bbf84d36",
   "metadata": {},
   "source": [
    "### From the above barplot most of the car types are sedan types"
   ]
  },
  {
   "cell_type": "code",
   "execution_count": 45,
   "id": "beec2ef7",
   "metadata": {},
   "outputs": [
    {
     "data": {
      "image/png": "[encoded data removed]",
      "text/plain": [
       "<Figure size 640x480 with 1 Axes>"
      ]
     },
     "metadata": {},
     "output_type": "display_data"
    }
   ],
   "source": [
    "# barplot on how aspiration effect car price\n",
    "aspi_price = sns.barplot(x = data[\"aspiration\"],y = data[\"price\"])\n",
    "#bar_p.set_xticklabels(labels= data,rotation = 90)\n",
    "aspi_price.set_xlabel(\"Aspiration\",fontsize= 10)\n",
    "aspi_price.set_ylabel(\"car Price\",fontsize= 10)\n",
    "aspi_price.set_title(\"Effect on Car price by aspiration \",fontsize= 15,fontweight = \"bold\")\n",
    "plt.show()"
   ]
  },
  {
   "cell_type": "markdown",
   "id": "b64f663b",
   "metadata": {},
   "source": [
    "### Turbo engine cars are more expensive"
   ]
  },
  {
   "cell_type": "code",
   "execution_count": 185,
   "id": "6fbc7749",
   "metadata": {},
   "outputs": [
    {
     "data": {
      "image/png": "[encoded data removed]",
      "text/plain": [
       "<Figure size 640x480 with 1 Axes>"
      ]
     },
     "metadata": {},
     "output_type": "display_data"
    }
   ],
   "source": [
    "sns.scatterplot(x= data[\"engine-size\"], y=data[\"price\"], hue = data[\"aspiration\"])\n",
    "plt.title(\"Relation b/w engine_size and price\")\n",
    "plt.show()"
   ]
  },
  {
   "cell_type": "markdown",
   "id": "0aa972f5",
   "metadata": {},
   "source": [
    "### As we see most of engine size b/w 80 to 200 and car price b/w 5000 to 15000\n",
    "### Most of turbo engine cars are 10000 to 30000 price range"
   ]
  },
  {
   "cell_type": "code",
   "execution_count": 191,
   "id": "463b936e",
   "metadata": {},
   "outputs": [
    {
     "data": {
      "text/html": [
       "<div>\n",
       "<style scoped>\n",
       "    .dataframe tbody tr th:only-of-type {\n",
       "        vertical-align: middle;\n",
       "    }\n",
       "\n",
       "    .dataframe tbody tr th {\n",
       "        vertical-align: top;\n",
       "    }\n",
       "\n",
       "    .dataframe thead th {\n",
       "        text-align: right;\n",
       "    }\n",
       "</style>\n",
       "<table border=\"1\" class=\"dataframe\">\n",
       "  <thead>\n",
       "    <tr style=\"text-align: right;\">\n",
       "      <th></th>\n",
       "      <th>drive-wheels</th>\n",
       "      <th>counts</th>\n",
       "    </tr>\n",
       "  </thead>\n",
       "  <tbody>\n",
       "    <tr>\n",
       "      <th>0</th>\n",
       "      <td>fwd</td>\n",
       "      <td>120</td>\n",
       "    </tr>\n",
       "    <tr>\n",
       "      <th>1</th>\n",
       "      <td>rwd</td>\n",
       "      <td>76</td>\n",
       "    </tr>\n",
       "    <tr>\n",
       "      <th>2</th>\n",
       "      <td>4wd</td>\n",
       "      <td>9</td>\n",
       "    </tr>\n",
       "  </tbody>\n",
       "</table>\n",
       "</div>"
      ],
      "text/plain": [
       "  drive-wheels  counts\n",
       "0          fwd     120\n",
       "1          rwd      76\n",
       "2          4wd       9"
      ]
     },
     "execution_count": 191,
     "metadata": {},
     "output_type": "execute_result"
    }
   ],
   "source": [
    "wheel_cnt = data[\"drive-wheels\"].value_counts().to_frame().reset_index()\n",
    "wheel_cnt.columns=[\"drive-wheels\",\"counts\"]\n",
    "wheel_cnt"
   ]
  },
  {
   "cell_type": "markdown",
   "id": "26d8e572",
   "metadata": {},
   "source": [
    "### Front wheel drive are more in count"
   ]
  },
  {
   "cell_type": "code",
   "execution_count": 193,
   "id": "526d6b90",
   "metadata": {},
   "outputs": [
    {
     "data": {
      "text/plain": [
       "<AxesSubplot:xlabel='drive-wheels', ylabel='price'>"
      ]
     },
     "execution_count": 193,
     "metadata": {},
     "output_type": "execute_result"
    },
    {
     "data": {
      "image/png": "[encoded data removed]",
      "text/plain": [
       "<Figure size 640x480 with 1 Axes>"
      ]
     },
     "metadata": {},
     "output_type": "display_data"
    }
   ],
   "source": [
    "sns.barplot(x = data[\"drive-wheels\"],y =data[\"price\"])"
   ]
  },
  {
   "cell_type": "markdown",
   "id": "d5e78fb6",
   "metadata": {},
   "source": [
    "### As we see from the above barplot rear wheel drive cars are more expensive"
   ]
  },
  {
   "cell_type": "code",
   "execution_count": 194,
   "id": "0c4f2f4c",
   "metadata": {},
   "outputs": [
    {
     "data": {
      "text/plain": [
       "<AxesSubplot:xlabel='symboling', ylabel='price'>"
      ]
     },
     "execution_count": 194,
     "metadata": {},
     "output_type": "execute_result"
    },
    {
     "data": {
      "image/png": "[encoded data removed]",
      "text/plain": [
       "<Figure size 640x480 with 1 Axes>"
      ]
     },
     "metadata": {},
     "output_type": "display_data"
    }
   ],
   "source": [
    "sns.scatterplot(x = data[\"symboling\"],y = data[\"price\"])"
   ]
  },
  {
   "cell_type": "markdown",
   "id": "d561622c",
   "metadata": {},
   "source": [
    "### symboling and price has no correlation between each other"
   ]
  },
  {
   "cell_type": "markdown",
   "id": "2d3ac49a",
   "metadata": {},
   "source": [
    "## Data Preprocessing \n"
   ]
  },
  {
   "cell_type": "code",
   "execution_count": 49,
   "id": "e809dea6",
   "metadata": {},
   "outputs": [
    {
     "data": {
      "text/html": [
       "<div>\n",
       "<style scoped>\n",
       "    .dataframe tbody tr th:only-of-type {\n",
       "        vertical-align: middle;\n",
       "    }\n",
       "\n",
       "    .dataframe tbody tr th {\n",
       "        vertical-align: top;\n",
       "    }\n",
       "\n",
       "    .dataframe thead th {\n",
       "        text-align: right;\n",
       "    }\n",
       "</style>\n",
       "<table border=\"1\" class=\"dataframe\">\n",
       "  <thead>\n",
       "    <tr style=\"text-align: right;\">\n",
       "      <th></th>\n",
       "      <th>symboling</th>\n",
       "      <th>normalized-losses</th>\n",
       "      <th>make</th>\n",
       "      <th>fuel-type</th>\n",
       "      <th>aspiration</th>\n",
       "      <th>num-of-doors</th>\n",
       "      <th>body-style</th>\n",
       "      <th>drive-wheels</th>\n",
       "      <th>engine-location</th>\n",
       "      <th>wheel-base</th>\n",
       "      <th>...</th>\n",
       "      <th>engine-size</th>\n",
       "      <th>fuel-system</th>\n",
       "      <th>bore</th>\n",
       "      <th>stroke</th>\n",
       "      <th>compression-ratio</th>\n",
       "      <th>horsepower</th>\n",
       "      <th>peak-rpm</th>\n",
       "      <th>city-mpg</th>\n",
       "      <th>highway-mpg</th>\n",
       "      <th>price</th>\n",
       "    </tr>\n",
       "  </thead>\n",
       "  <tbody>\n",
       "    <tr>\n",
       "      <th>0</th>\n",
       "      <td>3</td>\n",
       "      <td>122.0</td>\n",
       "      <td>alfa-romero</td>\n",
       "      <td>gas</td>\n",
       "      <td>std</td>\n",
       "      <td>2</td>\n",
       "      <td>convertible</td>\n",
       "      <td>rwd</td>\n",
       "      <td>front</td>\n",
       "      <td>88.6</td>\n",
       "      <td>...</td>\n",
       "      <td>130</td>\n",
       "      <td>mpfi</td>\n",
       "      <td>3.47</td>\n",
       "      <td>2.68</td>\n",
       "      <td>9.0</td>\n",
       "      <td>111.0</td>\n",
       "      <td>5000.0</td>\n",
       "      <td>21</td>\n",
       "      <td>27</td>\n",
       "      <td>13495.0</td>\n",
       "    </tr>\n",
       "    <tr>\n",
       "      <th>1</th>\n",
       "      <td>3</td>\n",
       "      <td>122.0</td>\n",
       "      <td>alfa-romero</td>\n",
       "      <td>gas</td>\n",
       "      <td>std</td>\n",
       "      <td>2</td>\n",
       "      <td>convertible</td>\n",
       "      <td>rwd</td>\n",
       "      <td>front</td>\n",
       "      <td>88.6</td>\n",
       "      <td>...</td>\n",
       "      <td>130</td>\n",
       "      <td>mpfi</td>\n",
       "      <td>3.47</td>\n",
       "      <td>2.68</td>\n",
       "      <td>9.0</td>\n",
       "      <td>111.0</td>\n",
       "      <td>5000.0</td>\n",
       "      <td>21</td>\n",
       "      <td>27</td>\n",
       "      <td>16500.0</td>\n",
       "    </tr>\n",
       "    <tr>\n",
       "      <th>2</th>\n",
       "      <td>1</td>\n",
       "      <td>122.0</td>\n",
       "      <td>alfa-romero</td>\n",
       "      <td>gas</td>\n",
       "      <td>std</td>\n",
       "      <td>2</td>\n",
       "      <td>hatchback</td>\n",
       "      <td>rwd</td>\n",
       "      <td>front</td>\n",
       "      <td>94.5</td>\n",
       "      <td>...</td>\n",
       "      <td>152</td>\n",
       "      <td>mpfi</td>\n",
       "      <td>2.68</td>\n",
       "      <td>3.47</td>\n",
       "      <td>9.0</td>\n",
       "      <td>154.0</td>\n",
       "      <td>5000.0</td>\n",
       "      <td>19</td>\n",
       "      <td>26</td>\n",
       "      <td>16500.0</td>\n",
       "    </tr>\n",
       "    <tr>\n",
       "      <th>3</th>\n",
       "      <td>2</td>\n",
       "      <td>164.0</td>\n",
       "      <td>audi</td>\n",
       "      <td>gas</td>\n",
       "      <td>std</td>\n",
       "      <td>4</td>\n",
       "      <td>sedan</td>\n",
       "      <td>fwd</td>\n",
       "      <td>front</td>\n",
       "      <td>99.8</td>\n",
       "      <td>...</td>\n",
       "      <td>109</td>\n",
       "      <td>mpfi</td>\n",
       "      <td>3.19</td>\n",
       "      <td>3.40</td>\n",
       "      <td>10.0</td>\n",
       "      <td>102.0</td>\n",
       "      <td>5500.0</td>\n",
       "      <td>24</td>\n",
       "      <td>30</td>\n",
       "      <td>13950.0</td>\n",
       "    </tr>\n",
       "    <tr>\n",
       "      <th>4</th>\n",
       "      <td>2</td>\n",
       "      <td>164.0</td>\n",
       "      <td>audi</td>\n",
       "      <td>gas</td>\n",
       "      <td>std</td>\n",
       "      <td>4</td>\n",
       "      <td>sedan</td>\n",
       "      <td>4wd</td>\n",
       "      <td>front</td>\n",
       "      <td>99.4</td>\n",
       "      <td>...</td>\n",
       "      <td>136</td>\n",
       "      <td>mpfi</td>\n",
       "      <td>3.19</td>\n",
       "      <td>3.40</td>\n",
       "      <td>8.0</td>\n",
       "      <td>115.0</td>\n",
       "      <td>5500.0</td>\n",
       "      <td>18</td>\n",
       "      <td>22</td>\n",
       "      <td>17450.0</td>\n",
       "    </tr>\n",
       "  </tbody>\n",
       "</table>\n",
       "<p>5 rows × 26 columns</p>\n",
       "</div>"
      ],
      "text/plain": [
       "   symboling  normalized-losses         make fuel-type aspiration  \\\n",
       "0          3              122.0  alfa-romero       gas        std   \n",
       "1          3              122.0  alfa-romero       gas        std   \n",
       "2          1              122.0  alfa-romero       gas        std   \n",
       "3          2              164.0         audi       gas        std   \n",
       "4          2              164.0         audi       gas        std   \n",
       "\n",
       "   num-of-doors   body-style drive-wheels engine-location  wheel-base  ...  \\\n",
       "0             2  convertible          rwd           front        88.6  ...   \n",
       "1             2  convertible          rwd           front        88.6  ...   \n",
       "2             2    hatchback          rwd           front        94.5  ...   \n",
       "3             4        sedan          fwd           front        99.8  ...   \n",
       "4             4        sedan          4wd           front        99.4  ...   \n",
       "\n",
       "   engine-size  fuel-system  bore  stroke compression-ratio  horsepower  \\\n",
       "0          130         mpfi  3.47    2.68               9.0       111.0   \n",
       "1          130         mpfi  3.47    2.68               9.0       111.0   \n",
       "2          152         mpfi  2.68    3.47               9.0       154.0   \n",
       "3          109         mpfi  3.19    3.40              10.0       102.0   \n",
       "4          136         mpfi  3.19    3.40               8.0       115.0   \n",
       "\n",
       "   peak-rpm city-mpg  highway-mpg    price  \n",
       "0    5000.0       21           27  13495.0  \n",
       "1    5000.0       21           27  16500.0  \n",
       "2    5000.0       19           26  16500.0  \n",
       "3    5500.0       24           30  13950.0  \n",
       "4    5500.0       18           22  17450.0  \n",
       "\n",
       "[5 rows x 26 columns]"
      ]
     },
     "execution_count": 49,
     "metadata": {},
     "output_type": "execute_result"
    }
   ],
   "source": [
    "df = data.copy()\n",
    "df.head(5)"
   ]
  },
  {
   "cell_type": "code",
   "execution_count": 50,
   "id": "7b8cb529",
   "metadata": {},
   "outputs": [
    {
     "data": {
      "text/html": [
       "<div>\n",
       "<style scoped>\n",
       "    .dataframe tbody tr th:only-of-type {\n",
       "        vertical-align: middle;\n",
       "    }\n",
       "\n",
       "    .dataframe tbody tr th {\n",
       "        vertical-align: top;\n",
       "    }\n",
       "\n",
       "    .dataframe thead th {\n",
       "        text-align: right;\n",
       "    }\n",
       "</style>\n",
       "<table border=\"1\" class=\"dataframe\">\n",
       "  <thead>\n",
       "    <tr style=\"text-align: right;\">\n",
       "      <th></th>\n",
       "      <th>symboling</th>\n",
       "      <th>normalized-losses</th>\n",
       "      <th>make</th>\n",
       "      <th>fuel-type</th>\n",
       "      <th>num-of-doors</th>\n",
       "      <th>body-style</th>\n",
       "      <th>drive-wheels</th>\n",
       "      <th>engine-location</th>\n",
       "      <th>wheel-base</th>\n",
       "      <th>length</th>\n",
       "      <th>...</th>\n",
       "      <th>bore</th>\n",
       "      <th>stroke</th>\n",
       "      <th>compression-ratio</th>\n",
       "      <th>horsepower</th>\n",
       "      <th>peak-rpm</th>\n",
       "      <th>city-mpg</th>\n",
       "      <th>highway-mpg</th>\n",
       "      <th>price</th>\n",
       "      <th>aspiration_std</th>\n",
       "      <th>aspiration_turbo</th>\n",
       "    </tr>\n",
       "  </thead>\n",
       "  <tbody>\n",
       "    <tr>\n",
       "      <th>0</th>\n",
       "      <td>3</td>\n",
       "      <td>122.0</td>\n",
       "      <td>alfa-romero</td>\n",
       "      <td>gas</td>\n",
       "      <td>2</td>\n",
       "      <td>convertible</td>\n",
       "      <td>rwd</td>\n",
       "      <td>front</td>\n",
       "      <td>88.6</td>\n",
       "      <td>168.8</td>\n",
       "      <td>...</td>\n",
       "      <td>3.47</td>\n",
       "      <td>2.68</td>\n",
       "      <td>9.0</td>\n",
       "      <td>111.0</td>\n",
       "      <td>5000.0</td>\n",
       "      <td>21</td>\n",
       "      <td>27</td>\n",
       "      <td>13495.0</td>\n",
       "      <td>1</td>\n",
       "      <td>0</td>\n",
       "    </tr>\n",
       "    <tr>\n",
       "      <th>1</th>\n",
       "      <td>3</td>\n",
       "      <td>122.0</td>\n",
       "      <td>alfa-romero</td>\n",
       "      <td>gas</td>\n",
       "      <td>2</td>\n",
       "      <td>convertible</td>\n",
       "      <td>rwd</td>\n",
       "      <td>front</td>\n",
       "      <td>88.6</td>\n",
       "      <td>168.8</td>\n",
       "      <td>...</td>\n",
       "      <td>3.47</td>\n",
       "      <td>2.68</td>\n",
       "      <td>9.0</td>\n",
       "      <td>111.0</td>\n",
       "      <td>5000.0</td>\n",
       "      <td>21</td>\n",
       "      <td>27</td>\n",
       "      <td>16500.0</td>\n",
       "      <td>1</td>\n",
       "      <td>0</td>\n",
       "    </tr>\n",
       "    <tr>\n",
       "      <th>2</th>\n",
       "      <td>1</td>\n",
       "      <td>122.0</td>\n",
       "      <td>alfa-romero</td>\n",
       "      <td>gas</td>\n",
       "      <td>2</td>\n",
       "      <td>hatchback</td>\n",
       "      <td>rwd</td>\n",
       "      <td>front</td>\n",
       "      <td>94.5</td>\n",
       "      <td>171.2</td>\n",
       "      <td>...</td>\n",
       "      <td>2.68</td>\n",
       "      <td>3.47</td>\n",
       "      <td>9.0</td>\n",
       "      <td>154.0</td>\n",
       "      <td>5000.0</td>\n",
       "      <td>19</td>\n",
       "      <td>26</td>\n",
       "      <td>16500.0</td>\n",
       "      <td>1</td>\n",
       "      <td>0</td>\n",
       "    </tr>\n",
       "    <tr>\n",
       "      <th>3</th>\n",
       "      <td>2</td>\n",
       "      <td>164.0</td>\n",
       "      <td>audi</td>\n",
       "      <td>gas</td>\n",
       "      <td>4</td>\n",
       "      <td>sedan</td>\n",
       "      <td>fwd</td>\n",
       "      <td>front</td>\n",
       "      <td>99.8</td>\n",
       "      <td>176.6</td>\n",
       "      <td>...</td>\n",
       "      <td>3.19</td>\n",
       "      <td>3.40</td>\n",
       "      <td>10.0</td>\n",
       "      <td>102.0</td>\n",
       "      <td>5500.0</td>\n",
       "      <td>24</td>\n",
       "      <td>30</td>\n",
       "      <td>13950.0</td>\n",
       "      <td>1</td>\n",
       "      <td>0</td>\n",
       "    </tr>\n",
       "    <tr>\n",
       "      <th>4</th>\n",
       "      <td>2</td>\n",
       "      <td>164.0</td>\n",
       "      <td>audi</td>\n",
       "      <td>gas</td>\n",
       "      <td>4</td>\n",
       "      <td>sedan</td>\n",
       "      <td>4wd</td>\n",
       "      <td>front</td>\n",
       "      <td>99.4</td>\n",
       "      <td>176.6</td>\n",
       "      <td>...</td>\n",
       "      <td>3.19</td>\n",
       "      <td>3.40</td>\n",
       "      <td>8.0</td>\n",
       "      <td>115.0</td>\n",
       "      <td>5500.0</td>\n",
       "      <td>18</td>\n",
       "      <td>22</td>\n",
       "      <td>17450.0</td>\n",
       "      <td>1</td>\n",
       "      <td>0</td>\n",
       "    </tr>\n",
       "    <tr>\n",
       "      <th>...</th>\n",
       "      <td>...</td>\n",
       "      <td>...</td>\n",
       "      <td>...</td>\n",
       "      <td>...</td>\n",
       "      <td>...</td>\n",
       "      <td>...</td>\n",
       "      <td>...</td>\n",
       "      <td>...</td>\n",
       "      <td>...</td>\n",
       "      <td>...</td>\n",
       "      <td>...</td>\n",
       "      <td>...</td>\n",
       "      <td>...</td>\n",
       "      <td>...</td>\n",
       "      <td>...</td>\n",
       "      <td>...</td>\n",
       "      <td>...</td>\n",
       "      <td>...</td>\n",
       "      <td>...</td>\n",
       "      <td>...</td>\n",
       "      <td>...</td>\n",
       "    </tr>\n",
       "    <tr>\n",
       "      <th>200</th>\n",
       "      <td>-1</td>\n",
       "      <td>95.0</td>\n",
       "      <td>volvo</td>\n",
       "      <td>gas</td>\n",
       "      <td>4</td>\n",
       "      <td>sedan</td>\n",
       "      <td>rwd</td>\n",
       "      <td>front</td>\n",
       "      <td>109.1</td>\n",
       "      <td>188.8</td>\n",
       "      <td>...</td>\n",
       "      <td>3.78</td>\n",
       "      <td>3.15</td>\n",
       "      <td>9.5</td>\n",
       "      <td>114.0</td>\n",
       "      <td>5400.0</td>\n",
       "      <td>23</td>\n",
       "      <td>28</td>\n",
       "      <td>16845.0</td>\n",
       "      <td>1</td>\n",
       "      <td>0</td>\n",
       "    </tr>\n",
       "    <tr>\n",
       "      <th>201</th>\n",
       "      <td>-1</td>\n",
       "      <td>95.0</td>\n",
       "      <td>volvo</td>\n",
       "      <td>gas</td>\n",
       "      <td>4</td>\n",
       "      <td>sedan</td>\n",
       "      <td>rwd</td>\n",
       "      <td>front</td>\n",
       "      <td>109.1</td>\n",
       "      <td>188.8</td>\n",
       "      <td>...</td>\n",
       "      <td>3.78</td>\n",
       "      <td>3.15</td>\n",
       "      <td>8.7</td>\n",
       "      <td>160.0</td>\n",
       "      <td>5300.0</td>\n",
       "      <td>19</td>\n",
       "      <td>25</td>\n",
       "      <td>19045.0</td>\n",
       "      <td>0</td>\n",
       "      <td>1</td>\n",
       "    </tr>\n",
       "    <tr>\n",
       "      <th>202</th>\n",
       "      <td>-1</td>\n",
       "      <td>95.0</td>\n",
       "      <td>volvo</td>\n",
       "      <td>gas</td>\n",
       "      <td>4</td>\n",
       "      <td>sedan</td>\n",
       "      <td>rwd</td>\n",
       "      <td>front</td>\n",
       "      <td>109.1</td>\n",
       "      <td>188.8</td>\n",
       "      <td>...</td>\n",
       "      <td>3.58</td>\n",
       "      <td>2.87</td>\n",
       "      <td>8.8</td>\n",
       "      <td>134.0</td>\n",
       "      <td>5500.0</td>\n",
       "      <td>18</td>\n",
       "      <td>23</td>\n",
       "      <td>21485.0</td>\n",
       "      <td>1</td>\n",
       "      <td>0</td>\n",
       "    </tr>\n",
       "    <tr>\n",
       "      <th>203</th>\n",
       "      <td>-1</td>\n",
       "      <td>95.0</td>\n",
       "      <td>volvo</td>\n",
       "      <td>diesel</td>\n",
       "      <td>4</td>\n",
       "      <td>sedan</td>\n",
       "      <td>rwd</td>\n",
       "      <td>front</td>\n",
       "      <td>109.1</td>\n",
       "      <td>188.8</td>\n",
       "      <td>...</td>\n",
       "      <td>3.01</td>\n",
       "      <td>3.40</td>\n",
       "      <td>23.0</td>\n",
       "      <td>106.0</td>\n",
       "      <td>4800.0</td>\n",
       "      <td>26</td>\n",
       "      <td>27</td>\n",
       "      <td>22470.0</td>\n",
       "      <td>0</td>\n",
       "      <td>1</td>\n",
       "    </tr>\n",
       "    <tr>\n",
       "      <th>204</th>\n",
       "      <td>-1</td>\n",
       "      <td>95.0</td>\n",
       "      <td>volvo</td>\n",
       "      <td>gas</td>\n",
       "      <td>4</td>\n",
       "      <td>sedan</td>\n",
       "      <td>rwd</td>\n",
       "      <td>front</td>\n",
       "      <td>109.1</td>\n",
       "      <td>188.8</td>\n",
       "      <td>...</td>\n",
       "      <td>3.78</td>\n",
       "      <td>3.15</td>\n",
       "      <td>9.5</td>\n",
       "      <td>114.0</td>\n",
       "      <td>5400.0</td>\n",
       "      <td>19</td>\n",
       "      <td>25</td>\n",
       "      <td>22625.0</td>\n",
       "      <td>0</td>\n",
       "      <td>1</td>\n",
       "    </tr>\n",
       "  </tbody>\n",
       "</table>\n",
       "<p>205 rows × 27 columns</p>\n",
       "</div>"
      ],
      "text/plain": [
       "     symboling  normalized-losses         make fuel-type  num-of-doors  \\\n",
       "0            3              122.0  alfa-romero       gas             2   \n",
       "1            3              122.0  alfa-romero       gas             2   \n",
       "2            1              122.0  alfa-romero       gas             2   \n",
       "3            2              164.0         audi       gas             4   \n",
       "4            2              164.0         audi       gas             4   \n",
       "..         ...                ...          ...       ...           ...   \n",
       "200         -1               95.0        volvo       gas             4   \n",
       "201         -1               95.0        volvo       gas             4   \n",
       "202         -1               95.0        volvo       gas             4   \n",
       "203         -1               95.0        volvo    diesel             4   \n",
       "204         -1               95.0        volvo       gas             4   \n",
       "\n",
       "      body-style drive-wheels engine-location  wheel-base  length  ...  bore  \\\n",
       "0    convertible          rwd           front        88.6   168.8  ...  3.47   \n",
       "1    convertible          rwd           front        88.6   168.8  ...  3.47   \n",
       "2      hatchback          rwd           front        94.5   171.2  ...  2.68   \n",
       "3          sedan          fwd           front        99.8   176.6  ...  3.19   \n",
       "4          sedan          4wd           front        99.4   176.6  ...  3.19   \n",
       "..           ...          ...             ...         ...     ...  ...   ...   \n",
       "200        sedan          rwd           front       109.1   188.8  ...  3.78   \n",
       "201        sedan          rwd           front       109.1   188.8  ...  3.78   \n",
       "202        sedan          rwd           front       109.1   188.8  ...  3.58   \n",
       "203        sedan          rwd           front       109.1   188.8  ...  3.01   \n",
       "204        sedan          rwd           front       109.1   188.8  ...  3.78   \n",
       "\n",
       "     stroke  compression-ratio horsepower  peak-rpm  city-mpg highway-mpg  \\\n",
       "0      2.68                9.0      111.0    5000.0        21          27   \n",
       "1      2.68                9.0      111.0    5000.0        21          27   \n",
       "2      3.47                9.0      154.0    5000.0        19          26   \n",
       "3      3.40               10.0      102.0    5500.0        24          30   \n",
       "4      3.40                8.0      115.0    5500.0        18          22   \n",
       "..      ...                ...        ...       ...       ...         ...   \n",
       "200    3.15                9.5      114.0    5400.0        23          28   \n",
       "201    3.15                8.7      160.0    5300.0        19          25   \n",
       "202    2.87                8.8      134.0    5500.0        18          23   \n",
       "203    3.40               23.0      106.0    4800.0        26          27   \n",
       "204    3.15                9.5      114.0    5400.0        19          25   \n",
       "\n",
       "       price  aspiration_std  aspiration_turbo  \n",
       "0    13495.0               1                 0  \n",
       "1    16500.0               1                 0  \n",
       "2    16500.0               1                 0  \n",
       "3    13950.0               1                 0  \n",
       "4    17450.0               1                 0  \n",
       "..       ...             ...               ...  \n",
       "200  16845.0               1                 0  \n",
       "201  19045.0               0                 1  \n",
       "202  21485.0               1                 0  \n",
       "203  22470.0               0                 1  \n",
       "204  22625.0               0                 1  \n",
       "\n",
       "[205 rows x 27 columns]"
      ]
     },
     "execution_count": 50,
     "metadata": {},
     "output_type": "execute_result"
    }
   ],
   "source": [
    "asp_df1 = pd.get_dummies(df,columns=[\"aspiration\"])\n",
    "asp_df1"
   ]
  },
  {
   "cell_type": "code",
   "execution_count": 51,
   "id": "5d8289fc",
   "metadata": {},
   "outputs": [],
   "source": [
    "df1 = pd.get_dummies(asp_df1,columns=[\"fuel-type\"])\n"
   ]
  },
  {
   "cell_type": "code",
   "execution_count": 52,
   "id": "af2fc6c0",
   "metadata": {},
   "outputs": [],
   "source": [
    "df2 = df1[df1[\"engine-location\"]!=\"rear\"]"
   ]
  },
  {
   "cell_type": "code",
   "execution_count": 53,
   "id": "ad065847",
   "metadata": {},
   "outputs": [
    {
     "data": {
      "text/plain": [
       "(202, 28)"
      ]
     },
     "execution_count": 53,
     "metadata": {},
     "output_type": "execute_result"
    }
   ],
   "source": [
    "df2.shape"
   ]
  },
  {
   "cell_type": "code",
   "execution_count": 54,
   "id": "6aab58f5",
   "metadata": {},
   "outputs": [],
   "source": [
    "df2 = df2[df2[\"engine-type\"]!=\"rotor\"]"
   ]
  },
  {
   "cell_type": "code",
   "execution_count": 55,
   "id": "49403dce",
   "metadata": {},
   "outputs": [],
   "source": [
    "df2 = df2[df2[\"engine-type\"]!=\"dohcv\"]"
   ]
  },
  {
   "cell_type": "code",
   "execution_count": 56,
   "id": "ddebd85c",
   "metadata": {},
   "outputs": [
    {
     "data": {
      "text/html": [
       "<div>\n",
       "<style scoped>\n",
       "    .dataframe tbody tr th:only-of-type {\n",
       "        vertical-align: middle;\n",
       "    }\n",
       "\n",
       "    .dataframe tbody tr th {\n",
       "        vertical-align: top;\n",
       "    }\n",
       "\n",
       "    .dataframe thead th {\n",
       "        text-align: right;\n",
       "    }\n",
       "</style>\n",
       "<table border=\"1\" class=\"dataframe\">\n",
       "  <thead>\n",
       "    <tr style=\"text-align: right;\">\n",
       "      <th></th>\n",
       "      <th>symboling</th>\n",
       "      <th>normalized-losses</th>\n",
       "      <th>make</th>\n",
       "      <th>num-of-doors</th>\n",
       "      <th>body-style</th>\n",
       "      <th>drive-wheels</th>\n",
       "      <th>engine-location</th>\n",
       "      <th>wheel-base</th>\n",
       "      <th>length</th>\n",
       "      <th>width</th>\n",
       "      <th>...</th>\n",
       "      <th>compression-ratio</th>\n",
       "      <th>horsepower</th>\n",
       "      <th>peak-rpm</th>\n",
       "      <th>city-mpg</th>\n",
       "      <th>highway-mpg</th>\n",
       "      <th>price</th>\n",
       "      <th>aspiration_std</th>\n",
       "      <th>aspiration_turbo</th>\n",
       "      <th>fuel-type_diesel</th>\n",
       "      <th>fuel-type_gas</th>\n",
       "    </tr>\n",
       "  </thead>\n",
       "  <tbody>\n",
       "    <tr>\n",
       "      <th>0</th>\n",
       "      <td>3</td>\n",
       "      <td>122.0</td>\n",
       "      <td>alfa-romero</td>\n",
       "      <td>2</td>\n",
       "      <td>convertible</td>\n",
       "      <td>rwd</td>\n",
       "      <td>front</td>\n",
       "      <td>88.6</td>\n",
       "      <td>168.8</td>\n",
       "      <td>64.1</td>\n",
       "      <td>...</td>\n",
       "      <td>9.0</td>\n",
       "      <td>111.0</td>\n",
       "      <td>5000.0</td>\n",
       "      <td>21</td>\n",
       "      <td>27</td>\n",
       "      <td>13495.0</td>\n",
       "      <td>1</td>\n",
       "      <td>0</td>\n",
       "      <td>0</td>\n",
       "      <td>1</td>\n",
       "    </tr>\n",
       "    <tr>\n",
       "      <th>1</th>\n",
       "      <td>3</td>\n",
       "      <td>122.0</td>\n",
       "      <td>alfa-romero</td>\n",
       "      <td>2</td>\n",
       "      <td>convertible</td>\n",
       "      <td>rwd</td>\n",
       "      <td>front</td>\n",
       "      <td>88.6</td>\n",
       "      <td>168.8</td>\n",
       "      <td>64.1</td>\n",
       "      <td>...</td>\n",
       "      <td>9.0</td>\n",
       "      <td>111.0</td>\n",
       "      <td>5000.0</td>\n",
       "      <td>21</td>\n",
       "      <td>27</td>\n",
       "      <td>16500.0</td>\n",
       "      <td>1</td>\n",
       "      <td>0</td>\n",
       "      <td>0</td>\n",
       "      <td>1</td>\n",
       "    </tr>\n",
       "    <tr>\n",
       "      <th>2</th>\n",
       "      <td>1</td>\n",
       "      <td>122.0</td>\n",
       "      <td>alfa-romero</td>\n",
       "      <td>2</td>\n",
       "      <td>hatchback</td>\n",
       "      <td>rwd</td>\n",
       "      <td>front</td>\n",
       "      <td>94.5</td>\n",
       "      <td>171.2</td>\n",
       "      <td>65.5</td>\n",
       "      <td>...</td>\n",
       "      <td>9.0</td>\n",
       "      <td>154.0</td>\n",
       "      <td>5000.0</td>\n",
       "      <td>19</td>\n",
       "      <td>26</td>\n",
       "      <td>16500.0</td>\n",
       "      <td>1</td>\n",
       "      <td>0</td>\n",
       "      <td>0</td>\n",
       "      <td>1</td>\n",
       "    </tr>\n",
       "    <tr>\n",
       "      <th>3</th>\n",
       "      <td>2</td>\n",
       "      <td>164.0</td>\n",
       "      <td>audi</td>\n",
       "      <td>4</td>\n",
       "      <td>sedan</td>\n",
       "      <td>fwd</td>\n",
       "      <td>front</td>\n",
       "      <td>99.8</td>\n",
       "      <td>176.6</td>\n",
       "      <td>66.2</td>\n",
       "      <td>...</td>\n",
       "      <td>10.0</td>\n",
       "      <td>102.0</td>\n",
       "      <td>5500.0</td>\n",
       "      <td>24</td>\n",
       "      <td>30</td>\n",
       "      <td>13950.0</td>\n",
       "      <td>1</td>\n",
       "      <td>0</td>\n",
       "      <td>0</td>\n",
       "      <td>1</td>\n",
       "    </tr>\n",
       "    <tr>\n",
       "      <th>4</th>\n",
       "      <td>2</td>\n",
       "      <td>164.0</td>\n",
       "      <td>audi</td>\n",
       "      <td>4</td>\n",
       "      <td>sedan</td>\n",
       "      <td>4wd</td>\n",
       "      <td>front</td>\n",
       "      <td>99.4</td>\n",
       "      <td>176.6</td>\n",
       "      <td>66.4</td>\n",
       "      <td>...</td>\n",
       "      <td>8.0</td>\n",
       "      <td>115.0</td>\n",
       "      <td>5500.0</td>\n",
       "      <td>18</td>\n",
       "      <td>22</td>\n",
       "      <td>17450.0</td>\n",
       "      <td>1</td>\n",
       "      <td>0</td>\n",
       "      <td>0</td>\n",
       "      <td>1</td>\n",
       "    </tr>\n",
       "    <tr>\n",
       "      <th>...</th>\n",
       "      <td>...</td>\n",
       "      <td>...</td>\n",
       "      <td>...</td>\n",
       "      <td>...</td>\n",
       "      <td>...</td>\n",
       "      <td>...</td>\n",
       "      <td>...</td>\n",
       "      <td>...</td>\n",
       "      <td>...</td>\n",
       "      <td>...</td>\n",
       "      <td>...</td>\n",
       "      <td>...</td>\n",
       "      <td>...</td>\n",
       "      <td>...</td>\n",
       "      <td>...</td>\n",
       "      <td>...</td>\n",
       "      <td>...</td>\n",
       "      <td>...</td>\n",
       "      <td>...</td>\n",
       "      <td>...</td>\n",
       "      <td>...</td>\n",
       "    </tr>\n",
       "    <tr>\n",
       "      <th>200</th>\n",
       "      <td>-1</td>\n",
       "      <td>95.0</td>\n",
       "      <td>volvo</td>\n",
       "      <td>4</td>\n",
       "      <td>sedan</td>\n",
       "      <td>rwd</td>\n",
       "      <td>front</td>\n",
       "      <td>109.1</td>\n",
       "      <td>188.8</td>\n",
       "      <td>68.9</td>\n",
       "      <td>...</td>\n",
       "      <td>9.5</td>\n",
       "      <td>114.0</td>\n",
       "      <td>5400.0</td>\n",
       "      <td>23</td>\n",
       "      <td>28</td>\n",
       "      <td>16845.0</td>\n",
       "      <td>1</td>\n",
       "      <td>0</td>\n",
       "      <td>0</td>\n",
       "      <td>1</td>\n",
       "    </tr>\n",
       "    <tr>\n",
       "      <th>201</th>\n",
       "      <td>-1</td>\n",
       "      <td>95.0</td>\n",
       "      <td>volvo</td>\n",
       "      <td>4</td>\n",
       "      <td>sedan</td>\n",
       "      <td>rwd</td>\n",
       "      <td>front</td>\n",
       "      <td>109.1</td>\n",
       "      <td>188.8</td>\n",
       "      <td>68.8</td>\n",
       "      <td>...</td>\n",
       "      <td>8.7</td>\n",
       "      <td>160.0</td>\n",
       "      <td>5300.0</td>\n",
       "      <td>19</td>\n",
       "      <td>25</td>\n",
       "      <td>19045.0</td>\n",
       "      <td>0</td>\n",
       "      <td>1</td>\n",
       "      <td>0</td>\n",
       "      <td>1</td>\n",
       "    </tr>\n",
       "    <tr>\n",
       "      <th>202</th>\n",
       "      <td>-1</td>\n",
       "      <td>95.0</td>\n",
       "      <td>volvo</td>\n",
       "      <td>4</td>\n",
       "      <td>sedan</td>\n",
       "      <td>rwd</td>\n",
       "      <td>front</td>\n",
       "      <td>109.1</td>\n",
       "      <td>188.8</td>\n",
       "      <td>68.9</td>\n",
       "      <td>...</td>\n",
       "      <td>8.8</td>\n",
       "      <td>134.0</td>\n",
       "      <td>5500.0</td>\n",
       "      <td>18</td>\n",
       "      <td>23</td>\n",
       "      <td>21485.0</td>\n",
       "      <td>1</td>\n",
       "      <td>0</td>\n",
       "      <td>0</td>\n",
       "      <td>1</td>\n",
       "    </tr>\n",
       "    <tr>\n",
       "      <th>203</th>\n",
       "      <td>-1</td>\n",
       "      <td>95.0</td>\n",
       "      <td>volvo</td>\n",
       "      <td>4</td>\n",
       "      <td>sedan</td>\n",
       "      <td>rwd</td>\n",
       "      <td>front</td>\n",
       "      <td>109.1</td>\n",
       "      <td>188.8</td>\n",
       "      <td>68.9</td>\n",
       "      <td>...</td>\n",
       "      <td>23.0</td>\n",
       "      <td>106.0</td>\n",
       "      <td>4800.0</td>\n",
       "      <td>26</td>\n",
       "      <td>27</td>\n",
       "      <td>22470.0</td>\n",
       "      <td>0</td>\n",
       "      <td>1</td>\n",
       "      <td>1</td>\n",
       "      <td>0</td>\n",
       "    </tr>\n",
       "    <tr>\n",
       "      <th>204</th>\n",
       "      <td>-1</td>\n",
       "      <td>95.0</td>\n",
       "      <td>volvo</td>\n",
       "      <td>4</td>\n",
       "      <td>sedan</td>\n",
       "      <td>rwd</td>\n",
       "      <td>front</td>\n",
       "      <td>109.1</td>\n",
       "      <td>188.8</td>\n",
       "      <td>68.9</td>\n",
       "      <td>...</td>\n",
       "      <td>9.5</td>\n",
       "      <td>114.0</td>\n",
       "      <td>5400.0</td>\n",
       "      <td>19</td>\n",
       "      <td>25</td>\n",
       "      <td>22625.0</td>\n",
       "      <td>0</td>\n",
       "      <td>1</td>\n",
       "      <td>0</td>\n",
       "      <td>1</td>\n",
       "    </tr>\n",
       "  </tbody>\n",
       "</table>\n",
       "<p>197 rows × 28 columns</p>\n",
       "</div>"
      ],
      "text/plain": [
       "     symboling  normalized-losses         make  num-of-doors   body-style  \\\n",
       "0            3              122.0  alfa-romero             2  convertible   \n",
       "1            3              122.0  alfa-romero             2  convertible   \n",
       "2            1              122.0  alfa-romero             2    hatchback   \n",
       "3            2              164.0         audi             4        sedan   \n",
       "4            2              164.0         audi             4        sedan   \n",
       "..         ...                ...          ...           ...          ...   \n",
       "200         -1               95.0        volvo             4        sedan   \n",
       "201         -1               95.0        volvo             4        sedan   \n",
       "202         -1               95.0        volvo             4        sedan   \n",
       "203         -1               95.0        volvo             4        sedan   \n",
       "204         -1               95.0        volvo             4        sedan   \n",
       "\n",
       "    drive-wheels engine-location  wheel-base  length  width  ...  \\\n",
       "0            rwd           front        88.6   168.8   64.1  ...   \n",
       "1            rwd           front        88.6   168.8   64.1  ...   \n",
       "2            rwd           front        94.5   171.2   65.5  ...   \n",
       "3            fwd           front        99.8   176.6   66.2  ...   \n",
       "4            4wd           front        99.4   176.6   66.4  ...   \n",
       "..           ...             ...         ...     ...    ...  ...   \n",
       "200          rwd           front       109.1   188.8   68.9  ...   \n",
       "201          rwd           front       109.1   188.8   68.8  ...   \n",
       "202          rwd           front       109.1   188.8   68.9  ...   \n",
       "203          rwd           front       109.1   188.8   68.9  ...   \n",
       "204          rwd           front       109.1   188.8   68.9  ...   \n",
       "\n",
       "     compression-ratio  horsepower peak-rpm  city-mpg  highway-mpg    price  \\\n",
       "0                  9.0       111.0   5000.0        21           27  13495.0   \n",
       "1                  9.0       111.0   5000.0        21           27  16500.0   \n",
       "2                  9.0       154.0   5000.0        19           26  16500.0   \n",
       "3                 10.0       102.0   5500.0        24           30  13950.0   \n",
       "4                  8.0       115.0   5500.0        18           22  17450.0   \n",
       "..                 ...         ...      ...       ...          ...      ...   \n",
       "200                9.5       114.0   5400.0        23           28  16845.0   \n",
       "201                8.7       160.0   5300.0        19           25  19045.0   \n",
       "202                8.8       134.0   5500.0        18           23  21485.0   \n",
       "203               23.0       106.0   4800.0        26           27  22470.0   \n",
       "204                9.5       114.0   5400.0        19           25  22625.0   \n",
       "\n",
       "     aspiration_std  aspiration_turbo  fuel-type_diesel  fuel-type_gas  \n",
       "0                 1                 0                 0              1  \n",
       "1                 1                 0                 0              1  \n",
       "2                 1                 0                 0              1  \n",
       "3                 1                 0                 0              1  \n",
       "4                 1                 0                 0              1  \n",
       "..              ...               ...               ...            ...  \n",
       "200               1                 0                 0              1  \n",
       "201               0                 1                 0              1  \n",
       "202               1                 0                 0              1  \n",
       "203               0                 1                 1              0  \n",
       "204               0                 1                 0              1  \n",
       "\n",
       "[197 rows x 28 columns]"
      ]
     },
     "execution_count": 56,
     "metadata": {},
     "output_type": "execute_result"
    }
   ],
   "source": [
    "df2"
   ]
  },
  {
   "cell_type": "code",
   "execution_count": 57,
   "id": "c53b193e",
   "metadata": {},
   "outputs": [],
   "source": [
    "df = pd.get_dummies(df2,columns=[\"make\",\"body-style\",\"drive-wheels\"])"
   ]
  },
  {
   "cell_type": "code",
   "execution_count": 58,
   "id": "a979597f",
   "metadata": {},
   "outputs": [],
   "source": [
    "df[\"engine-location\"] = df[\"engine-location\"].replace(\"front\",1)"
   ]
  },
  {
   "cell_type": "code",
   "execution_count": 59,
   "id": "ecf977d3",
   "metadata": {},
   "outputs": [],
   "source": [
    "df = pd.get_dummies(df,columns=[\"engine-type\"])"
   ]
  },
  {
   "cell_type": "code",
   "execution_count": 60,
   "id": "ac4e92f9",
   "metadata": {},
   "outputs": [],
   "source": [
    "df = df.drop([\"fuel-system\"],axis= 1)"
   ]
  },
  {
   "cell_type": "code",
   "execution_count": 61,
   "id": "4df02650",
   "metadata": {},
   "outputs": [
    {
     "data": {
      "text/html": [
       "<div>\n",
       "<style scoped>\n",
       "    .dataframe tbody tr th:only-of-type {\n",
       "        vertical-align: middle;\n",
       "    }\n",
       "\n",
       "    .dataframe tbody tr th {\n",
       "        vertical-align: top;\n",
       "    }\n",
       "\n",
       "    .dataframe thead th {\n",
       "        text-align: right;\n",
       "    }\n",
       "</style>\n",
       "<table border=\"1\" class=\"dataframe\">\n",
       "  <thead>\n",
       "    <tr style=\"text-align: right;\">\n",
       "      <th></th>\n",
       "      <th>symboling</th>\n",
       "      <th>normalized-losses</th>\n",
       "      <th>num-of-doors</th>\n",
       "      <th>engine-location</th>\n",
       "      <th>wheel-base</th>\n",
       "      <th>length</th>\n",
       "      <th>width</th>\n",
       "      <th>height</th>\n",
       "      <th>curb-weight</th>\n",
       "      <th>num-of-cylinders</th>\n",
       "      <th>...</th>\n",
       "      <th>body-style_sedan</th>\n",
       "      <th>body-style_wagon</th>\n",
       "      <th>drive-wheels_4wd</th>\n",
       "      <th>drive-wheels_fwd</th>\n",
       "      <th>drive-wheels_rwd</th>\n",
       "      <th>engine-type_dohc</th>\n",
       "      <th>engine-type_l</th>\n",
       "      <th>engine-type_ohc</th>\n",
       "      <th>engine-type_ohcf</th>\n",
       "      <th>engine-type_ohcv</th>\n",
       "    </tr>\n",
       "  </thead>\n",
       "  <tbody>\n",
       "    <tr>\n",
       "      <th>0</th>\n",
       "      <td>3</td>\n",
       "      <td>122.0</td>\n",
       "      <td>2</td>\n",
       "      <td>1</td>\n",
       "      <td>88.6</td>\n",
       "      <td>168.8</td>\n",
       "      <td>64.1</td>\n",
       "      <td>48.8</td>\n",
       "      <td>2548</td>\n",
       "      <td>4</td>\n",
       "      <td>...</td>\n",
       "      <td>0</td>\n",
       "      <td>0</td>\n",
       "      <td>0</td>\n",
       "      <td>0</td>\n",
       "      <td>1</td>\n",
       "      <td>1</td>\n",
       "      <td>0</td>\n",
       "      <td>0</td>\n",
       "      <td>0</td>\n",
       "      <td>0</td>\n",
       "    </tr>\n",
       "    <tr>\n",
       "      <th>1</th>\n",
       "      <td>3</td>\n",
       "      <td>122.0</td>\n",
       "      <td>2</td>\n",
       "      <td>1</td>\n",
       "      <td>88.6</td>\n",
       "      <td>168.8</td>\n",
       "      <td>64.1</td>\n",
       "      <td>48.8</td>\n",
       "      <td>2548</td>\n",
       "      <td>4</td>\n",
       "      <td>...</td>\n",
       "      <td>0</td>\n",
       "      <td>0</td>\n",
       "      <td>0</td>\n",
       "      <td>0</td>\n",
       "      <td>1</td>\n",
       "      <td>1</td>\n",
       "      <td>0</td>\n",
       "      <td>0</td>\n",
       "      <td>0</td>\n",
       "      <td>0</td>\n",
       "    </tr>\n",
       "    <tr>\n",
       "      <th>2</th>\n",
       "      <td>1</td>\n",
       "      <td>122.0</td>\n",
       "      <td>2</td>\n",
       "      <td>1</td>\n",
       "      <td>94.5</td>\n",
       "      <td>171.2</td>\n",
       "      <td>65.5</td>\n",
       "      <td>52.4</td>\n",
       "      <td>2823</td>\n",
       "      <td>6</td>\n",
       "      <td>...</td>\n",
       "      <td>0</td>\n",
       "      <td>0</td>\n",
       "      <td>0</td>\n",
       "      <td>0</td>\n",
       "      <td>1</td>\n",
       "      <td>0</td>\n",
       "      <td>0</td>\n",
       "      <td>0</td>\n",
       "      <td>0</td>\n",
       "      <td>1</td>\n",
       "    </tr>\n",
       "  </tbody>\n",
       "</table>\n",
       "<p>3 rows × 58 columns</p>\n",
       "</div>"
      ],
      "text/plain": [
       "   symboling  normalized-losses  num-of-doors  engine-location  wheel-base  \\\n",
       "0          3              122.0             2                1        88.6   \n",
       "1          3              122.0             2                1        88.6   \n",
       "2          1              122.0             2                1        94.5   \n",
       "\n",
       "   length  width  height  curb-weight  num-of-cylinders  ...  \\\n",
       "0   168.8   64.1    48.8         2548                 4  ...   \n",
       "1   168.8   64.1    48.8         2548                 4  ...   \n",
       "2   171.2   65.5    52.4         2823                 6  ...   \n",
       "\n",
       "   body-style_sedan  body-style_wagon  drive-wheels_4wd  drive-wheels_fwd  \\\n",
       "0                 0                 0                 0                 0   \n",
       "1                 0                 0                 0                 0   \n",
       "2                 0                 0                 0                 0   \n",
       "\n",
       "   drive-wheels_rwd  engine-type_dohc  engine-type_l  engine-type_ohc  \\\n",
       "0                 1                 1              0                0   \n",
       "1                 1                 1              0                0   \n",
       "2                 1                 0              0                0   \n",
       "\n",
       "   engine-type_ohcf  engine-type_ohcv  \n",
       "0                 0                 0  \n",
       "1                 0                 0  \n",
       "2                 0                 1  \n",
       "\n",
       "[3 rows x 58 columns]"
      ]
     },
     "execution_count": 61,
     "metadata": {},
     "output_type": "execute_result"
    }
   ],
   "source": [
    "df.head(3)"
   ]
  },
  {
   "cell_type": "code",
   "execution_count": 62,
   "id": "c8fb3ca1",
   "metadata": {},
   "outputs": [],
   "source": [
    "# spliting the data into X and y\n",
    "X = df.drop([\"price\"], axis = 1)\n",
    "y = df[\"price\"]"
   ]
  },
  {
   "cell_type": "code",
   "execution_count": 63,
   "id": "c8a8b01e",
   "metadata": {},
   "outputs": [
    {
     "data": {
      "text/html": [
       "<div>\n",
       "<style scoped>\n",
       "    .dataframe tbody tr th:only-of-type {\n",
       "        vertical-align: middle;\n",
       "    }\n",
       "\n",
       "    .dataframe tbody tr th {\n",
       "        vertical-align: top;\n",
       "    }\n",
       "\n",
       "    .dataframe thead th {\n",
       "        text-align: right;\n",
       "    }\n",
       "</style>\n",
       "<table border=\"1\" class=\"dataframe\">\n",
       "  <thead>\n",
       "    <tr style=\"text-align: right;\">\n",
       "      <th></th>\n",
       "      <th>symboling</th>\n",
       "      <th>normalized-losses</th>\n",
       "      <th>num-of-doors</th>\n",
       "      <th>engine-location</th>\n",
       "      <th>wheel-base</th>\n",
       "      <th>length</th>\n",
       "      <th>width</th>\n",
       "      <th>height</th>\n",
       "      <th>curb-weight</th>\n",
       "      <th>num-of-cylinders</th>\n",
       "      <th>...</th>\n",
       "      <th>body-style_sedan</th>\n",
       "      <th>body-style_wagon</th>\n",
       "      <th>drive-wheels_4wd</th>\n",
       "      <th>drive-wheels_fwd</th>\n",
       "      <th>drive-wheels_rwd</th>\n",
       "      <th>engine-type_dohc</th>\n",
       "      <th>engine-type_l</th>\n",
       "      <th>engine-type_ohc</th>\n",
       "      <th>engine-type_ohcf</th>\n",
       "      <th>engine-type_ohcv</th>\n",
       "    </tr>\n",
       "  </thead>\n",
       "  <tbody>\n",
       "    <tr>\n",
       "      <th>0</th>\n",
       "      <td>3</td>\n",
       "      <td>122.0</td>\n",
       "      <td>2</td>\n",
       "      <td>1</td>\n",
       "      <td>88.6</td>\n",
       "      <td>168.8</td>\n",
       "      <td>64.1</td>\n",
       "      <td>48.8</td>\n",
       "      <td>2548</td>\n",
       "      <td>4</td>\n",
       "      <td>...</td>\n",
       "      <td>0</td>\n",
       "      <td>0</td>\n",
       "      <td>0</td>\n",
       "      <td>0</td>\n",
       "      <td>1</td>\n",
       "      <td>1</td>\n",
       "      <td>0</td>\n",
       "      <td>0</td>\n",
       "      <td>0</td>\n",
       "      <td>0</td>\n",
       "    </tr>\n",
       "    <tr>\n",
       "      <th>1</th>\n",
       "      <td>3</td>\n",
       "      <td>122.0</td>\n",
       "      <td>2</td>\n",
       "      <td>1</td>\n",
       "      <td>88.6</td>\n",
       "      <td>168.8</td>\n",
       "      <td>64.1</td>\n",
       "      <td>48.8</td>\n",
       "      <td>2548</td>\n",
       "      <td>4</td>\n",
       "      <td>...</td>\n",
       "      <td>0</td>\n",
       "      <td>0</td>\n",
       "      <td>0</td>\n",
       "      <td>0</td>\n",
       "      <td>1</td>\n",
       "      <td>1</td>\n",
       "      <td>0</td>\n",
       "      <td>0</td>\n",
       "      <td>0</td>\n",
       "      <td>0</td>\n",
       "    </tr>\n",
       "    <tr>\n",
       "      <th>2</th>\n",
       "      <td>1</td>\n",
       "      <td>122.0</td>\n",
       "      <td>2</td>\n",
       "      <td>1</td>\n",
       "      <td>94.5</td>\n",
       "      <td>171.2</td>\n",
       "      <td>65.5</td>\n",
       "      <td>52.4</td>\n",
       "      <td>2823</td>\n",
       "      <td>6</td>\n",
       "      <td>...</td>\n",
       "      <td>0</td>\n",
       "      <td>0</td>\n",
       "      <td>0</td>\n",
       "      <td>0</td>\n",
       "      <td>1</td>\n",
       "      <td>0</td>\n",
       "      <td>0</td>\n",
       "      <td>0</td>\n",
       "      <td>0</td>\n",
       "      <td>1</td>\n",
       "    </tr>\n",
       "    <tr>\n",
       "      <th>3</th>\n",
       "      <td>2</td>\n",
       "      <td>164.0</td>\n",
       "      <td>4</td>\n",
       "      <td>1</td>\n",
       "      <td>99.8</td>\n",
       "      <td>176.6</td>\n",
       "      <td>66.2</td>\n",
       "      <td>54.3</td>\n",
       "      <td>2337</td>\n",
       "      <td>4</td>\n",
       "      <td>...</td>\n",
       "      <td>1</td>\n",
       "      <td>0</td>\n",
       "      <td>0</td>\n",
       "      <td>1</td>\n",
       "      <td>0</td>\n",
       "      <td>0</td>\n",
       "      <td>0</td>\n",
       "      <td>1</td>\n",
       "      <td>0</td>\n",
       "      <td>0</td>\n",
       "    </tr>\n",
       "    <tr>\n",
       "      <th>4</th>\n",
       "      <td>2</td>\n",
       "      <td>164.0</td>\n",
       "      <td>4</td>\n",
       "      <td>1</td>\n",
       "      <td>99.4</td>\n",
       "      <td>176.6</td>\n",
       "      <td>66.4</td>\n",
       "      <td>54.3</td>\n",
       "      <td>2824</td>\n",
       "      <td>5</td>\n",
       "      <td>...</td>\n",
       "      <td>1</td>\n",
       "      <td>0</td>\n",
       "      <td>1</td>\n",
       "      <td>0</td>\n",
       "      <td>0</td>\n",
       "      <td>0</td>\n",
       "      <td>0</td>\n",
       "      <td>1</td>\n",
       "      <td>0</td>\n",
       "      <td>0</td>\n",
       "    </tr>\n",
       "    <tr>\n",
       "      <th>...</th>\n",
       "      <td>...</td>\n",
       "      <td>...</td>\n",
       "      <td>...</td>\n",
       "      <td>...</td>\n",
       "      <td>...</td>\n",
       "      <td>...</td>\n",
       "      <td>...</td>\n",
       "      <td>...</td>\n",
       "      <td>...</td>\n",
       "      <td>...</td>\n",
       "      <td>...</td>\n",
       "      <td>...</td>\n",
       "      <td>...</td>\n",
       "      <td>...</td>\n",
       "      <td>...</td>\n",
       "      <td>...</td>\n",
       "      <td>...</td>\n",
       "      <td>...</td>\n",
       "      <td>...</td>\n",
       "      <td>...</td>\n",
       "      <td>...</td>\n",
       "    </tr>\n",
       "    <tr>\n",
       "      <th>200</th>\n",
       "      <td>-1</td>\n",
       "      <td>95.0</td>\n",
       "      <td>4</td>\n",
       "      <td>1</td>\n",
       "      <td>109.1</td>\n",
       "      <td>188.8</td>\n",
       "      <td>68.9</td>\n",
       "      <td>55.5</td>\n",
       "      <td>2952</td>\n",
       "      <td>4</td>\n",
       "      <td>...</td>\n",
       "      <td>1</td>\n",
       "      <td>0</td>\n",
       "      <td>0</td>\n",
       "      <td>0</td>\n",
       "      <td>1</td>\n",
       "      <td>0</td>\n",
       "      <td>0</td>\n",
       "      <td>1</td>\n",
       "      <td>0</td>\n",
       "      <td>0</td>\n",
       "    </tr>\n",
       "    <tr>\n",
       "      <th>201</th>\n",
       "      <td>-1</td>\n",
       "      <td>95.0</td>\n",
       "      <td>4</td>\n",
       "      <td>1</td>\n",
       "      <td>109.1</td>\n",
       "      <td>188.8</td>\n",
       "      <td>68.8</td>\n",
       "      <td>55.5</td>\n",
       "      <td>3049</td>\n",
       "      <td>4</td>\n",
       "      <td>...</td>\n",
       "      <td>1</td>\n",
       "      <td>0</td>\n",
       "      <td>0</td>\n",
       "      <td>0</td>\n",
       "      <td>1</td>\n",
       "      <td>0</td>\n",
       "      <td>0</td>\n",
       "      <td>1</td>\n",
       "      <td>0</td>\n",
       "      <td>0</td>\n",
       "    </tr>\n",
       "    <tr>\n",
       "      <th>202</th>\n",
       "      <td>-1</td>\n",
       "      <td>95.0</td>\n",
       "      <td>4</td>\n",
       "      <td>1</td>\n",
       "      <td>109.1</td>\n",
       "      <td>188.8</td>\n",
       "      <td>68.9</td>\n",
       "      <td>55.5</td>\n",
       "      <td>3012</td>\n",
       "      <td>6</td>\n",
       "      <td>...</td>\n",
       "      <td>1</td>\n",
       "      <td>0</td>\n",
       "      <td>0</td>\n",
       "      <td>0</td>\n",
       "      <td>1</td>\n",
       "      <td>0</td>\n",
       "      <td>0</td>\n",
       "      <td>0</td>\n",
       "      <td>0</td>\n",
       "      <td>1</td>\n",
       "    </tr>\n",
       "    <tr>\n",
       "      <th>203</th>\n",
       "      <td>-1</td>\n",
       "      <td>95.0</td>\n",
       "      <td>4</td>\n",
       "      <td>1</td>\n",
       "      <td>109.1</td>\n",
       "      <td>188.8</td>\n",
       "      <td>68.9</td>\n",
       "      <td>55.5</td>\n",
       "      <td>3217</td>\n",
       "      <td>6</td>\n",
       "      <td>...</td>\n",
       "      <td>1</td>\n",
       "      <td>0</td>\n",
       "      <td>0</td>\n",
       "      <td>0</td>\n",
       "      <td>1</td>\n",
       "      <td>0</td>\n",
       "      <td>0</td>\n",
       "      <td>1</td>\n",
       "      <td>0</td>\n",
       "      <td>0</td>\n",
       "    </tr>\n",
       "    <tr>\n",
       "      <th>204</th>\n",
       "      <td>-1</td>\n",
       "      <td>95.0</td>\n",
       "      <td>4</td>\n",
       "      <td>1</td>\n",
       "      <td>109.1</td>\n",
       "      <td>188.8</td>\n",
       "      <td>68.9</td>\n",
       "      <td>55.5</td>\n",
       "      <td>3062</td>\n",
       "      <td>4</td>\n",
       "      <td>...</td>\n",
       "      <td>1</td>\n",
       "      <td>0</td>\n",
       "      <td>0</td>\n",
       "      <td>0</td>\n",
       "      <td>1</td>\n",
       "      <td>0</td>\n",
       "      <td>0</td>\n",
       "      <td>1</td>\n",
       "      <td>0</td>\n",
       "      <td>0</td>\n",
       "    </tr>\n",
       "  </tbody>\n",
       "</table>\n",
       "<p>197 rows × 57 columns</p>\n",
       "</div>"
      ],
      "text/plain": [
       "     symboling  normalized-losses  num-of-doors  engine-location  wheel-base  \\\n",
       "0            3              122.0             2                1        88.6   \n",
       "1            3              122.0             2                1        88.6   \n",
       "2            1              122.0             2                1        94.5   \n",
       "3            2              164.0             4                1        99.8   \n",
       "4            2              164.0             4                1        99.4   \n",
       "..         ...                ...           ...              ...         ...   \n",
       "200         -1               95.0             4                1       109.1   \n",
       "201         -1               95.0             4                1       109.1   \n",
       "202         -1               95.0             4                1       109.1   \n",
       "203         -1               95.0             4                1       109.1   \n",
       "204         -1               95.0             4                1       109.1   \n",
       "\n",
       "     length  width  height  curb-weight  num-of-cylinders  ...  \\\n",
       "0     168.8   64.1    48.8         2548                 4  ...   \n",
       "1     168.8   64.1    48.8         2548                 4  ...   \n",
       "2     171.2   65.5    52.4         2823                 6  ...   \n",
       "3     176.6   66.2    54.3         2337                 4  ...   \n",
       "4     176.6   66.4    54.3         2824                 5  ...   \n",
       "..      ...    ...     ...          ...               ...  ...   \n",
       "200   188.8   68.9    55.5         2952                 4  ...   \n",
       "201   188.8   68.8    55.5         3049                 4  ...   \n",
       "202   188.8   68.9    55.5         3012                 6  ...   \n",
       "203   188.8   68.9    55.5         3217                 6  ...   \n",
       "204   188.8   68.9    55.5         3062                 4  ...   \n",
       "\n",
       "     body-style_sedan  body-style_wagon  drive-wheels_4wd  drive-wheels_fwd  \\\n",
       "0                   0                 0                 0                 0   \n",
       "1                   0                 0                 0                 0   \n",
       "2                   0                 0                 0                 0   \n",
       "3                   1                 0                 0                 1   \n",
       "4                   1                 0                 1                 0   \n",
       "..                ...               ...               ...               ...   \n",
       "200                 1                 0                 0                 0   \n",
       "201                 1                 0                 0                 0   \n",
       "202                 1                 0                 0                 0   \n",
       "203                 1                 0                 0                 0   \n",
       "204                 1                 0                 0                 0   \n",
       "\n",
       "     drive-wheels_rwd  engine-type_dohc  engine-type_l  engine-type_ohc  \\\n",
       "0                   1                 1              0                0   \n",
       "1                   1                 1              0                0   \n",
       "2                   1                 0              0                0   \n",
       "3                   0                 0              0                1   \n",
       "4                   0                 0              0                1   \n",
       "..                ...               ...            ...              ...   \n",
       "200                 1                 0              0                1   \n",
       "201                 1                 0              0                1   \n",
       "202                 1                 0              0                0   \n",
       "203                 1                 0              0                1   \n",
       "204                 1                 0              0                1   \n",
       "\n",
       "     engine-type_ohcf  engine-type_ohcv  \n",
       "0                   0                 0  \n",
       "1                   0                 0  \n",
       "2                   0                 1  \n",
       "3                   0                 0  \n",
       "4                   0                 0  \n",
       "..                ...               ...  \n",
       "200                 0                 0  \n",
       "201                 0                 0  \n",
       "202                 0                 1  \n",
       "203                 0                 0  \n",
       "204                 0                 0  \n",
       "\n",
       "[197 rows x 57 columns]"
      ]
     },
     "execution_count": 63,
     "metadata": {},
     "output_type": "execute_result"
    }
   ],
   "source": [
    "X"
   ]
  },
  {
   "cell_type": "markdown",
   "id": "4b5b50fe",
   "metadata": {},
   "source": [
    "## Scaling the data"
   ]
  },
  {
   "cell_type": "code",
   "execution_count": 64,
   "id": "63568683",
   "metadata": {},
   "outputs": [
    {
     "data": {
      "text/html": [
       "<div>\n",
       "<style scoped>\n",
       "    .dataframe tbody tr th:only-of-type {\n",
       "        vertical-align: middle;\n",
       "    }\n",
       "\n",
       "    .dataframe tbody tr th {\n",
       "        vertical-align: top;\n",
       "    }\n",
       "\n",
       "    .dataframe thead th {\n",
       "        text-align: right;\n",
       "    }\n",
       "</style>\n",
       "<table border=\"1\" class=\"dataframe\">\n",
       "  <thead>\n",
       "    <tr style=\"text-align: right;\">\n",
       "      <th></th>\n",
       "      <th>0</th>\n",
       "      <th>1</th>\n",
       "      <th>2</th>\n",
       "      <th>3</th>\n",
       "      <th>4</th>\n",
       "      <th>5</th>\n",
       "      <th>6</th>\n",
       "      <th>7</th>\n",
       "      <th>8</th>\n",
       "      <th>9</th>\n",
       "      <th>...</th>\n",
       "      <th>47</th>\n",
       "      <th>48</th>\n",
       "      <th>49</th>\n",
       "      <th>50</th>\n",
       "      <th>51</th>\n",
       "      <th>52</th>\n",
       "      <th>53</th>\n",
       "      <th>54</th>\n",
       "      <th>55</th>\n",
       "      <th>56</th>\n",
       "    </tr>\n",
       "  </thead>\n",
       "  <tbody>\n",
       "    <tr>\n",
       "      <th>0</th>\n",
       "      <td>1.874262</td>\n",
       "      <td>0.017774</td>\n",
       "      <td>-1.196703</td>\n",
       "      <td>0.0</td>\n",
       "      <td>-1.729294</td>\n",
       "      <td>-0.433189</td>\n",
       "      <td>-0.841280</td>\n",
       "      <td>-2.118595</td>\n",
       "      <td>-0.005911</td>\n",
       "      <td>-0.388079</td>\n",
       "      <td>...</td>\n",
       "      <td>-0.974933</td>\n",
       "      <td>-0.381246</td>\n",
       "      <td>-0.218797</td>\n",
       "      <td>-1.248376</td>\n",
       "      <td>1.377338</td>\n",
       "      <td>3.926406</td>\n",
       "      <td>-0.254686</td>\n",
       "      <td>-1.737932</td>\n",
       "      <td>-0.254686</td>\n",
       "      <td>-0.265805</td>\n",
       "    </tr>\n",
       "    <tr>\n",
       "      <th>1</th>\n",
       "      <td>1.874262</td>\n",
       "      <td>0.017774</td>\n",
       "      <td>-1.196703</td>\n",
       "      <td>0.0</td>\n",
       "      <td>-1.729294</td>\n",
       "      <td>-0.433189</td>\n",
       "      <td>-0.841280</td>\n",
       "      <td>-2.118595</td>\n",
       "      <td>-0.005911</td>\n",
       "      <td>-0.388079</td>\n",
       "      <td>...</td>\n",
       "      <td>-0.974933</td>\n",
       "      <td>-0.381246</td>\n",
       "      <td>-0.218797</td>\n",
       "      <td>-1.248376</td>\n",
       "      <td>1.377338</td>\n",
       "      <td>3.926406</td>\n",
       "      <td>-0.254686</td>\n",
       "      <td>-1.737932</td>\n",
       "      <td>-0.254686</td>\n",
       "      <td>-0.265805</td>\n",
       "    </tr>\n",
       "    <tr>\n",
       "      <th>2</th>\n",
       "      <td>0.203540</td>\n",
       "      <td>0.017774</td>\n",
       "      <td>-1.196703</td>\n",
       "      <td>0.0</td>\n",
       "      <td>-0.745371</td>\n",
       "      <td>-0.241436</td>\n",
       "      <td>-0.184543</td>\n",
       "      <td>-0.610508</td>\n",
       "      <td>0.517353</td>\n",
       "      <td>1.623802</td>\n",
       "      <td>...</td>\n",
       "      <td>-0.974933</td>\n",
       "      <td>-0.381246</td>\n",
       "      <td>-0.218797</td>\n",
       "      <td>-1.248376</td>\n",
       "      <td>1.377338</td>\n",
       "      <td>-0.254686</td>\n",
       "      <td>-0.254686</td>\n",
       "      <td>-1.737932</td>\n",
       "      <td>-0.254686</td>\n",
       "      <td>3.762160</td>\n",
       "    </tr>\n",
       "    <tr>\n",
       "      <th>3</th>\n",
       "      <td>1.038901</td>\n",
       "      <td>1.330846</td>\n",
       "      <td>0.835629</td>\n",
       "      <td>0.0</td>\n",
       "      <td>0.138493</td>\n",
       "      <td>0.190009</td>\n",
       "      <td>0.143825</td>\n",
       "      <td>0.185428</td>\n",
       "      <td>-0.407398</td>\n",
       "      <td>-0.388079</td>\n",
       "      <td>...</td>\n",
       "      <td>1.025711</td>\n",
       "      <td>-0.381246</td>\n",
       "      <td>-0.218797</td>\n",
       "      <td>0.801041</td>\n",
       "      <td>-0.726038</td>\n",
       "      <td>-0.254686</td>\n",
       "      <td>-0.254686</td>\n",
       "      <td>0.575396</td>\n",
       "      <td>-0.254686</td>\n",
       "      <td>-0.265805</td>\n",
       "    </tr>\n",
       "    <tr>\n",
       "      <th>4</th>\n",
       "      <td>1.038901</td>\n",
       "      <td>1.330846</td>\n",
       "      <td>0.835629</td>\n",
       "      <td>0.0</td>\n",
       "      <td>0.071786</td>\n",
       "      <td>0.190009</td>\n",
       "      <td>0.237644</td>\n",
       "      <td>0.185428</td>\n",
       "      <td>0.519256</td>\n",
       "      <td>0.617862</td>\n",
       "      <td>...</td>\n",
       "      <td>1.025711</td>\n",
       "      <td>-0.381246</td>\n",
       "      <td>4.570436</td>\n",
       "      <td>-1.248376</td>\n",
       "      <td>-0.726038</td>\n",
       "      <td>-0.254686</td>\n",
       "      <td>-0.254686</td>\n",
       "      <td>0.575396</td>\n",
       "      <td>-0.254686</td>\n",
       "      <td>-0.265805</td>\n",
       "    </tr>\n",
       "    <tr>\n",
       "      <th>...</th>\n",
       "      <td>...</td>\n",
       "      <td>...</td>\n",
       "      <td>...</td>\n",
       "      <td>...</td>\n",
       "      <td>...</td>\n",
       "      <td>...</td>\n",
       "      <td>...</td>\n",
       "      <td>...</td>\n",
       "      <td>...</td>\n",
       "      <td>...</td>\n",
       "      <td>...</td>\n",
       "      <td>...</td>\n",
       "      <td>...</td>\n",
       "      <td>...</td>\n",
       "      <td>...</td>\n",
       "      <td>...</td>\n",
       "      <td>...</td>\n",
       "      <td>...</td>\n",
       "      <td>...</td>\n",
       "      <td>...</td>\n",
       "      <td>...</td>\n",
       "    </tr>\n",
       "    <tr>\n",
       "      <th>192</th>\n",
       "      <td>-1.467182</td>\n",
       "      <td>-0.826343</td>\n",
       "      <td>0.835629</td>\n",
       "      <td>0.0</td>\n",
       "      <td>1.689423</td>\n",
       "      <td>1.164756</td>\n",
       "      <td>1.410388</td>\n",
       "      <td>0.688124</td>\n",
       "      <td>0.762811</td>\n",
       "      <td>-0.388079</td>\n",
       "      <td>...</td>\n",
       "      <td>1.025711</td>\n",
       "      <td>-0.381246</td>\n",
       "      <td>-0.218797</td>\n",
       "      <td>-1.248376</td>\n",
       "      <td>1.377338</td>\n",
       "      <td>-0.254686</td>\n",
       "      <td>-0.254686</td>\n",
       "      <td>0.575396</td>\n",
       "      <td>-0.254686</td>\n",
       "      <td>-0.265805</td>\n",
       "    </tr>\n",
       "    <tr>\n",
       "      <th>193</th>\n",
       "      <td>-1.467182</td>\n",
       "      <td>-0.826343</td>\n",
       "      <td>0.835629</td>\n",
       "      <td>0.0</td>\n",
       "      <td>1.689423</td>\n",
       "      <td>1.164756</td>\n",
       "      <td>1.363478</td>\n",
       "      <td>0.688124</td>\n",
       "      <td>0.947381</td>\n",
       "      <td>-0.388079</td>\n",
       "      <td>...</td>\n",
       "      <td>1.025711</td>\n",
       "      <td>-0.381246</td>\n",
       "      <td>-0.218797</td>\n",
       "      <td>-1.248376</td>\n",
       "      <td>1.377338</td>\n",
       "      <td>-0.254686</td>\n",
       "      <td>-0.254686</td>\n",
       "      <td>0.575396</td>\n",
       "      <td>-0.254686</td>\n",
       "      <td>-0.265805</td>\n",
       "    </tr>\n",
       "    <tr>\n",
       "      <th>194</th>\n",
       "      <td>-1.467182</td>\n",
       "      <td>-0.826343</td>\n",
       "      <td>0.835629</td>\n",
       "      <td>0.0</td>\n",
       "      <td>1.689423</td>\n",
       "      <td>1.164756</td>\n",
       "      <td>1.410388</td>\n",
       "      <td>0.688124</td>\n",
       "      <td>0.876978</td>\n",
       "      <td>1.623802</td>\n",
       "      <td>...</td>\n",
       "      <td>1.025711</td>\n",
       "      <td>-0.381246</td>\n",
       "      <td>-0.218797</td>\n",
       "      <td>-1.248376</td>\n",
       "      <td>1.377338</td>\n",
       "      <td>-0.254686</td>\n",
       "      <td>-0.254686</td>\n",
       "      <td>-1.737932</td>\n",
       "      <td>-0.254686</td>\n",
       "      <td>3.762160</td>\n",
       "    </tr>\n",
       "    <tr>\n",
       "      <th>195</th>\n",
       "      <td>-1.467182</td>\n",
       "      <td>-0.826343</td>\n",
       "      <td>0.835629</td>\n",
       "      <td>0.0</td>\n",
       "      <td>1.689423</td>\n",
       "      <td>1.164756</td>\n",
       "      <td>1.410388</td>\n",
       "      <td>0.688124</td>\n",
       "      <td>1.267048</td>\n",
       "      <td>1.623802</td>\n",
       "      <td>...</td>\n",
       "      <td>1.025711</td>\n",
       "      <td>-0.381246</td>\n",
       "      <td>-0.218797</td>\n",
       "      <td>-1.248376</td>\n",
       "      <td>1.377338</td>\n",
       "      <td>-0.254686</td>\n",
       "      <td>-0.254686</td>\n",
       "      <td>0.575396</td>\n",
       "      <td>-0.254686</td>\n",
       "      <td>-0.265805</td>\n",
       "    </tr>\n",
       "    <tr>\n",
       "      <th>196</th>\n",
       "      <td>-1.467182</td>\n",
       "      <td>-0.826343</td>\n",
       "      <td>0.835629</td>\n",
       "      <td>0.0</td>\n",
       "      <td>1.689423</td>\n",
       "      <td>1.164756</td>\n",
       "      <td>1.410388</td>\n",
       "      <td>0.688124</td>\n",
       "      <td>0.972117</td>\n",
       "      <td>-0.388079</td>\n",
       "      <td>...</td>\n",
       "      <td>1.025711</td>\n",
       "      <td>-0.381246</td>\n",
       "      <td>-0.218797</td>\n",
       "      <td>-1.248376</td>\n",
       "      <td>1.377338</td>\n",
       "      <td>-0.254686</td>\n",
       "      <td>-0.254686</td>\n",
       "      <td>0.575396</td>\n",
       "      <td>-0.254686</td>\n",
       "      <td>-0.265805</td>\n",
       "    </tr>\n",
       "  </tbody>\n",
       "</table>\n",
       "<p>197 rows × 57 columns</p>\n",
       "</div>"
      ],
      "text/plain": [
       "           0         1         2    3         4         5         6   \\\n",
       "0    1.874262  0.017774 -1.196703  0.0 -1.729294 -0.433189 -0.841280   \n",
       "1    1.874262  0.017774 -1.196703  0.0 -1.729294 -0.433189 -0.841280   \n",
       "2    0.203540  0.017774 -1.196703  0.0 -0.745371 -0.241436 -0.184543   \n",
       "3    1.038901  1.330846  0.835629  0.0  0.138493  0.190009  0.143825   \n",
       "4    1.038901  1.330846  0.835629  0.0  0.071786  0.190009  0.237644   \n",
       "..        ...       ...       ...  ...       ...       ...       ...   \n",
       "192 -1.467182 -0.826343  0.835629  0.0  1.689423  1.164756  1.410388   \n",
       "193 -1.467182 -0.826343  0.835629  0.0  1.689423  1.164756  1.363478   \n",
       "194 -1.467182 -0.826343  0.835629  0.0  1.689423  1.164756  1.410388   \n",
       "195 -1.467182 -0.826343  0.835629  0.0  1.689423  1.164756  1.410388   \n",
       "196 -1.467182 -0.826343  0.835629  0.0  1.689423  1.164756  1.410388   \n",
       "\n",
       "           7         8         9   ...        47        48        49  \\\n",
       "0   -2.118595 -0.005911 -0.388079  ... -0.974933 -0.381246 -0.218797   \n",
       "1   -2.118595 -0.005911 -0.388079  ... -0.974933 -0.381246 -0.218797   \n",
       "2   -0.610508  0.517353  1.623802  ... -0.974933 -0.381246 -0.218797   \n",
       "3    0.185428 -0.407398 -0.388079  ...  1.025711 -0.381246 -0.218797   \n",
       "4    0.185428  0.519256  0.617862  ...  1.025711 -0.381246  4.570436   \n",
       "..        ...       ...       ...  ...       ...       ...       ...   \n",
       "192  0.688124  0.762811 -0.388079  ...  1.025711 -0.381246 -0.218797   \n",
       "193  0.688124  0.947381 -0.388079  ...  1.025711 -0.381246 -0.218797   \n",
       "194  0.688124  0.876978  1.623802  ...  1.025711 -0.381246 -0.218797   \n",
       "195  0.688124  1.267048  1.623802  ...  1.025711 -0.381246 -0.218797   \n",
       "196  0.688124  0.972117 -0.388079  ...  1.025711 -0.381246 -0.218797   \n",
       "\n",
       "           50        51        52        53        54        55        56  \n",
       "0   -1.248376  1.377338  3.926406 -0.254686 -1.737932 -0.254686 -0.265805  \n",
       "1   -1.248376  1.377338  3.926406 -0.254686 -1.737932 -0.254686 -0.265805  \n",
       "2   -1.248376  1.377338 -0.254686 -0.254686 -1.737932 -0.254686  3.762160  \n",
       "3    0.801041 -0.726038 -0.254686 -0.254686  0.575396 -0.254686 -0.265805  \n",
       "4   -1.248376 -0.726038 -0.254686 -0.254686  0.575396 -0.254686 -0.265805  \n",
       "..        ...       ...       ...       ...       ...       ...       ...  \n",
       "192 -1.248376  1.377338 -0.254686 -0.254686  0.575396 -0.254686 -0.265805  \n",
       "193 -1.248376  1.377338 -0.254686 -0.254686  0.575396 -0.254686 -0.265805  \n",
       "194 -1.248376  1.377338 -0.254686 -0.254686 -1.737932 -0.254686  3.762160  \n",
       "195 -1.248376  1.377338 -0.254686 -0.254686  0.575396 -0.254686 -0.265805  \n",
       "196 -1.248376  1.377338 -0.254686 -0.254686  0.575396 -0.254686 -0.265805  \n",
       "\n",
       "[197 rows x 57 columns]"
      ]
     },
     "execution_count": 64,
     "metadata": {},
     "output_type": "execute_result"
    }
   ],
   "source": [
    "ss = StandardScaler()\n",
    "X_ss = ss.fit_transform(X)\n",
    "X = pd.DataFrame(X_ss)\n",
    "X"
   ]
  },
  {
   "cell_type": "code",
   "execution_count": 73,
   "id": "869e1077",
   "metadata": {},
   "outputs": [],
   "source": [
    "pca = PCA()\n",
    "pca_df = pca.fit_transform(X)"
   ]
  },
  {
   "cell_type": "code",
   "execution_count": 74,
   "id": "a7c48615",
   "metadata": {},
   "outputs": [
    {
     "data": {
      "text/plain": [
       "array([1.02154990e+01, 5.22097741e+00, 3.71133999e+00, 3.01183598e+00,\n",
       "       2.56709006e+00, 2.34699926e+00, 1.96051944e+00, 1.79899239e+00,\n",
       "       1.69830710e+00, 1.55321211e+00, 1.49819101e+00, 1.36437836e+00,\n",
       "       1.28392537e+00, 1.24238284e+00, 1.18893800e+00, 1.13629865e+00,\n",
       "       1.09483678e+00, 1.06737358e+00, 1.06465969e+00, 1.04787181e+00,\n",
       "       1.03430298e+00, 9.97488037e-01, 9.70591530e-01, 8.86737520e-01,\n",
       "       8.51719003e-01, 7.40619817e-01, 6.95683176e-01, 6.31085966e-01,\n",
       "       5.78790669e-01, 4.78005824e-01, 4.20790337e-01, 2.91347426e-01,\n",
       "       2.61468731e-01, 2.46198173e-01, 1.90315439e-01, 1.74909427e-01,\n",
       "       1.55501597e-01, 1.15373608e-01, 1.13967785e-01, 8.67534861e-02,\n",
       "       7.81633767e-02, 5.42724636e-02, 4.77232063e-02, 3.54850670e-02,\n",
       "       2.67148129e-02, 1.72966983e-02, 1.55306233e-02, 1.15336540e-02,\n",
       "       3.71503101e-03, 2.01465195e-30, 1.22216500e-31, 7.87559110e-32,\n",
       "       7.19201394e-32, 4.15720667e-32, 3.71754722e-32, 3.71754722e-32,\n",
       "       7.96637071e-33])"
      ]
     },
     "execution_count": 74,
     "metadata": {},
     "output_type": "execute_result"
    }
   ],
   "source": [
    "pca.explained_variance_"
   ]
  },
  {
   "cell_type": "code",
   "execution_count": 75,
   "id": "ece34cc2",
   "metadata": {},
   "outputs": [
    {
     "data": {
      "image/png": "[encoded data removed]",
      "text/plain": [
       "<Figure size 640x480 with 1 Axes>"
      ]
     },
     "metadata": {},
     "output_type": "display_data"
    }
   ],
   "source": [
    "plt.bar(range(57),pca.explained_variance_)\n",
    "plt.xlabel(\"Eigen Value/Component\")\n",
    "plt.ylabel(\"Variation Explained\")\n",
    "plt.show()"
   ]
  },
  {
   "cell_type": "code",
   "execution_count": 76,
   "id": "aad6942e",
   "metadata": {},
   "outputs": [
    {
     "data": {
      "text/plain": [
       "array([1.81493637e-01, 9.27584819e-02, 6.59375125e-02, 5.35097763e-02,\n",
       "       4.56081991e-02, 4.16979564e-02, 3.48315636e-02, 3.19617937e-02,\n",
       "       3.01729687e-02, 2.75951389e-02, 2.66176069e-02, 2.42402247e-02,\n",
       "       2.28108568e-02, 2.20727916e-02, 2.11232639e-02, 2.01880471e-02,\n",
       "       1.94514149e-02, 1.89634899e-02, 1.89152737e-02, 1.86170119e-02,\n",
       "       1.83759412e-02, 1.77218687e-02, 1.72440120e-02, 1.57542199e-02,\n",
       "       1.51320635e-02, 1.31582201e-02, 1.23598534e-02, 1.12121872e-02,\n",
       "       1.02830829e-02, 8.49248925e-03, 7.47597045e-03, 5.17622330e-03,\n",
       "       4.64538355e-03, 4.37407921e-03, 3.38123877e-03, 3.10752788e-03,\n",
       "       2.76271873e-03, 2.04978491e-03, 2.02480836e-03, 1.54130559e-03,\n",
       "       1.38868943e-03, 9.64231587e-04, 8.47874223e-04, 6.30445352e-04,\n",
       "       4.74628656e-04, 3.07301746e-04, 2.75924779e-04, 2.04912634e-04,\n",
       "       6.60030890e-05, 3.57933087e-32, 2.17135914e-33, 1.39921669e-33,\n",
       "       1.27776897e-33, 7.38590017e-34, 6.60477932e-34, 6.60477932e-34,\n",
       "       1.41534505e-34])"
      ]
     },
     "execution_count": 76,
     "metadata": {},
     "output_type": "execute_result"
    }
   ],
   "source": [
    "pca.explained_variance_ratio_ "
   ]
  },
  {
   "cell_type": "code",
   "execution_count": 77,
   "id": "d8a4d0dc",
   "metadata": {},
   "outputs": [
    {
     "data": {
      "text/plain": [
       "array([0.18149364, 0.27425212, 0.34018963, 0.39369941, 0.43930761,\n",
       "       0.48100556, 0.51583713, 0.54779892, 0.57797189, 0.60556703,\n",
       "       0.63218464, 0.65642486, 0.67923572, 0.70130851, 0.72243177,\n",
       "       0.74261982, 0.76207123, 0.78103472, 0.79995   , 0.81856701,\n",
       "       0.83694295, 0.85466482, 0.87190883, 0.88766305, 0.90279511,\n",
       "       0.91595333, 0.92831319, 0.93952538, 0.94980846, 0.95830095,\n",
       "       0.96577692, 0.97095314, 0.97559853, 0.9799726 , 0.98335384,\n",
       "       0.98646137, 0.98922409, 0.99127387, 0.99329868, 0.99483999,\n",
       "       0.99622868, 0.99719291, 0.99804078, 0.99867123, 0.99914586,\n",
       "       0.99945316, 0.99972908, 0.999934  , 1.        , 1.        ,\n",
       "       1.        , 1.        , 1.        , 1.        , 1.        ,\n",
       "       1.        , 1.        ])"
      ]
     },
     "execution_count": 77,
     "metadata": {},
     "output_type": "execute_result"
    }
   ],
   "source": [
    "np.cumsum(pca.explained_variance_ratio_)"
   ]
  },
  {
   "cell_type": "markdown",
   "id": "d478c11c",
   "metadata": {},
   "source": [
    "### From the above plot and np.cumsum() values we see that with 48 features we can explained the 99% of varience in data"
   ]
  },
  {
   "cell_type": "code",
   "execution_count": 78,
   "id": "da87da48",
   "metadata": {},
   "outputs": [],
   "source": [
    "# principal component analysis with 48 components\n",
    "pca = PCA(n_components = 48)\n",
    "pca_X = pca.fit_transform(X)"
   ]
  },
  {
   "cell_type": "code",
   "execution_count": 79,
   "id": "3b1c85c3",
   "metadata": {},
   "outputs": [
    {
     "data": {
      "text/plain": [
       "(197, 48)"
      ]
     },
     "execution_count": 79,
     "metadata": {},
     "output_type": "execute_result"
    }
   ],
   "source": [
    "pca_X.shape"
   ]
  },
  {
   "cell_type": "code",
   "execution_count": 80,
   "id": "4c1cede8",
   "metadata": {},
   "outputs": [
    {
     "data": {
      "text/html": [
       "<div>\n",
       "<style scoped>\n",
       "    .dataframe tbody tr th:only-of-type {\n",
       "        vertical-align: middle;\n",
       "    }\n",
       "\n",
       "    .dataframe tbody tr th {\n",
       "        vertical-align: top;\n",
       "    }\n",
       "\n",
       "    .dataframe thead th {\n",
       "        text-align: right;\n",
       "    }\n",
       "</style>\n",
       "<table border=\"1\" class=\"dataframe\">\n",
       "  <thead>\n",
       "    <tr style=\"text-align: right;\">\n",
       "      <th></th>\n",
       "      <th>0</th>\n",
       "      <th>1</th>\n",
       "      <th>2</th>\n",
       "      <th>3</th>\n",
       "      <th>4</th>\n",
       "      <th>5</th>\n",
       "      <th>6</th>\n",
       "      <th>7</th>\n",
       "      <th>8</th>\n",
       "      <th>9</th>\n",
       "      <th>...</th>\n",
       "      <th>38</th>\n",
       "      <th>39</th>\n",
       "      <th>40</th>\n",
       "      <th>41</th>\n",
       "      <th>42</th>\n",
       "      <th>43</th>\n",
       "      <th>44</th>\n",
       "      <th>45</th>\n",
       "      <th>46</th>\n",
       "      <th>47</th>\n",
       "    </tr>\n",
       "  </thead>\n",
       "  <tbody>\n",
       "    <tr>\n",
       "      <th>0</th>\n",
       "      <td>0.077906</td>\n",
       "      <td>-4.485161</td>\n",
       "      <td>0.248646</td>\n",
       "      <td>4.509828</td>\n",
       "      <td>-3.998895</td>\n",
       "      <td>2.457029</td>\n",
       "      <td>1.474663</td>\n",
       "      <td>6.268236</td>\n",
       "      <td>-3.563717</td>\n",
       "      <td>-1.654226</td>\n",
       "      <td>...</td>\n",
       "      <td>-0.757690</td>\n",
       "      <td>-0.142579</td>\n",
       "      <td>0.280007</td>\n",
       "      <td>-0.030738</td>\n",
       "      <td>-0.101306</td>\n",
       "      <td>-0.005890</td>\n",
       "      <td>0.091148</td>\n",
       "      <td>0.011209</td>\n",
       "      <td>0.099983</td>\n",
       "      <td>-0.029207</td>\n",
       "    </tr>\n",
       "    <tr>\n",
       "      <th>1</th>\n",
       "      <td>0.077906</td>\n",
       "      <td>-4.485161</td>\n",
       "      <td>0.248646</td>\n",
       "      <td>4.509828</td>\n",
       "      <td>-3.998895</td>\n",
       "      <td>2.457029</td>\n",
       "      <td>1.474663</td>\n",
       "      <td>6.268236</td>\n",
       "      <td>-3.563717</td>\n",
       "      <td>-1.654226</td>\n",
       "      <td>...</td>\n",
       "      <td>-0.757690</td>\n",
       "      <td>-0.142579</td>\n",
       "      <td>0.280007</td>\n",
       "      <td>-0.030738</td>\n",
       "      <td>-0.101306</td>\n",
       "      <td>-0.005890</td>\n",
       "      <td>0.091148</td>\n",
       "      <td>0.011209</td>\n",
       "      <td>0.099983</td>\n",
       "      <td>-0.029207</td>\n",
       "    </tr>\n",
       "    <tr>\n",
       "      <th>2</th>\n",
       "      <td>1.370789</td>\n",
       "      <td>-4.068652</td>\n",
       "      <td>-0.946489</td>\n",
       "      <td>1.879137</td>\n",
       "      <td>-3.104202</td>\n",
       "      <td>0.285951</td>\n",
       "      <td>-0.083228</td>\n",
       "      <td>0.660215</td>\n",
       "      <td>-2.420888</td>\n",
       "      <td>-2.420893</td>\n",
       "      <td>...</td>\n",
       "      <td>1.604286</td>\n",
       "      <td>0.653544</td>\n",
       "      <td>-0.312747</td>\n",
       "      <td>0.135346</td>\n",
       "      <td>0.154660</td>\n",
       "      <td>0.025425</td>\n",
       "      <td>-0.152945</td>\n",
       "      <td>0.006236</td>\n",
       "      <td>-0.200775</td>\n",
       "      <td>0.065942</td>\n",
       "    </tr>\n",
       "    <tr>\n",
       "      <th>3</th>\n",
       "      <td>-0.645656</td>\n",
       "      <td>-0.453706</td>\n",
       "      <td>-0.339138</td>\n",
       "      <td>-1.836051</td>\n",
       "      <td>1.369542</td>\n",
       "      <td>0.343898</td>\n",
       "      <td>-2.053346</td>\n",
       "      <td>0.891862</td>\n",
       "      <td>-0.275889</td>\n",
       "      <td>2.222722</td>\n",
       "      <td>...</td>\n",
       "      <td>-0.236223</td>\n",
       "      <td>-0.100236</td>\n",
       "      <td>0.051027</td>\n",
       "      <td>0.166014</td>\n",
       "      <td>0.281924</td>\n",
       "      <td>0.148507</td>\n",
       "      <td>-0.186315</td>\n",
       "      <td>-0.262873</td>\n",
       "      <td>-0.156446</td>\n",
       "      <td>0.171420</td>\n",
       "    </tr>\n",
       "    <tr>\n",
       "      <th>4</th>\n",
       "      <td>1.088671</td>\n",
       "      <td>-1.411509</td>\n",
       "      <td>1.069285</td>\n",
       "      <td>-1.206700</td>\n",
       "      <td>1.836057</td>\n",
       "      <td>-0.457355</td>\n",
       "      <td>-1.757884</td>\n",
       "      <td>1.128770</td>\n",
       "      <td>-0.055802</td>\n",
       "      <td>2.765239</td>\n",
       "      <td>...</td>\n",
       "      <td>-0.548196</td>\n",
       "      <td>0.317349</td>\n",
       "      <td>0.083382</td>\n",
       "      <td>0.340708</td>\n",
       "      <td>0.103344</td>\n",
       "      <td>0.228358</td>\n",
       "      <td>-0.151545</td>\n",
       "      <td>0.010203</td>\n",
       "      <td>0.046929</td>\n",
       "      <td>0.122648</td>\n",
       "    </tr>\n",
       "    <tr>\n",
       "      <th>...</th>\n",
       "      <td>...</td>\n",
       "      <td>...</td>\n",
       "      <td>...</td>\n",
       "      <td>...</td>\n",
       "      <td>...</td>\n",
       "      <td>...</td>\n",
       "      <td>...</td>\n",
       "      <td>...</td>\n",
       "      <td>...</td>\n",
       "      <td>...</td>\n",
       "      <td>...</td>\n",
       "      <td>...</td>\n",
       "      <td>...</td>\n",
       "      <td>...</td>\n",
       "      <td>...</td>\n",
       "      <td>...</td>\n",
       "      <td>...</td>\n",
       "      <td>...</td>\n",
       "      <td>...</td>\n",
       "      <td>...</td>\n",
       "      <td>...</td>\n",
       "    </tr>\n",
       "    <tr>\n",
       "      <th>192</th>\n",
       "      <td>3.077135</td>\n",
       "      <td>0.717927</td>\n",
       "      <td>1.380936</td>\n",
       "      <td>-2.533181</td>\n",
       "      <td>0.943269</td>\n",
       "      <td>0.754088</td>\n",
       "      <td>1.847788</td>\n",
       "      <td>0.949145</td>\n",
       "      <td>1.124811</td>\n",
       "      <td>-1.459349</td>\n",
       "      <td>...</td>\n",
       "      <td>0.059296</td>\n",
       "      <td>0.090710</td>\n",
       "      <td>-0.074882</td>\n",
       "      <td>0.018829</td>\n",
       "      <td>-0.217703</td>\n",
       "      <td>0.216355</td>\n",
       "      <td>0.064227</td>\n",
       "      <td>0.093171</td>\n",
       "      <td>-0.002890</td>\n",
       "      <td>0.043528</td>\n",
       "    </tr>\n",
       "    <tr>\n",
       "      <th>193</th>\n",
       "      <td>4.249535</td>\n",
       "      <td>0.813065</td>\n",
       "      <td>0.627734</td>\n",
       "      <td>-1.370351</td>\n",
       "      <td>3.096625</td>\n",
       "      <td>-0.086899</td>\n",
       "      <td>1.743769</td>\n",
       "      <td>1.527082</td>\n",
       "      <td>1.070578</td>\n",
       "      <td>-2.348466</td>\n",
       "      <td>...</td>\n",
       "      <td>0.086515</td>\n",
       "      <td>-0.010205</td>\n",
       "      <td>0.277382</td>\n",
       "      <td>0.072292</td>\n",
       "      <td>0.003503</td>\n",
       "      <td>0.452029</td>\n",
       "      <td>0.012549</td>\n",
       "      <td>-0.106525</td>\n",
       "      <td>-0.246261</td>\n",
       "      <td>0.030777</td>\n",
       "    </tr>\n",
       "    <tr>\n",
       "      <th>194</th>\n",
       "      <td>4.859848</td>\n",
       "      <td>-1.085843</td>\n",
       "      <td>1.866972</td>\n",
       "      <td>-2.296001</td>\n",
       "      <td>-0.614595</td>\n",
       "      <td>0.017720</td>\n",
       "      <td>-0.000908</td>\n",
       "      <td>-0.341783</td>\n",
       "      <td>0.271052</td>\n",
       "      <td>-2.604391</td>\n",
       "      <td>...</td>\n",
       "      <td>0.016556</td>\n",
       "      <td>-0.502210</td>\n",
       "      <td>-0.791319</td>\n",
       "      <td>0.364482</td>\n",
       "      <td>-0.285619</td>\n",
       "      <td>-0.002011</td>\n",
       "      <td>0.076431</td>\n",
       "      <td>-0.084465</td>\n",
       "      <td>0.002512</td>\n",
       "      <td>-0.215149</td>\n",
       "    </tr>\n",
       "    <tr>\n",
       "      <th>195</th>\n",
       "      <td>4.247347</td>\n",
       "      <td>4.683404</td>\n",
       "      <td>-2.154612</td>\n",
       "      <td>-0.308234</td>\n",
       "      <td>0.476485</td>\n",
       "      <td>-1.536373</td>\n",
       "      <td>0.808153</td>\n",
       "      <td>1.790714</td>\n",
       "      <td>0.593092</td>\n",
       "      <td>-2.530662</td>\n",
       "      <td>...</td>\n",
       "      <td>0.743053</td>\n",
       "      <td>0.783829</td>\n",
       "      <td>-0.250365</td>\n",
       "      <td>0.513885</td>\n",
       "      <td>-0.070067</td>\n",
       "      <td>-0.131491</td>\n",
       "      <td>0.161711</td>\n",
       "      <td>0.275618</td>\n",
       "      <td>0.102896</td>\n",
       "      <td>0.081606</td>\n",
       "    </tr>\n",
       "    <tr>\n",
       "      <th>196</th>\n",
       "      <td>3.944552</td>\n",
       "      <td>1.121790</td>\n",
       "      <td>0.655073</td>\n",
       "      <td>-1.365307</td>\n",
       "      <td>2.995686</td>\n",
       "      <td>0.020761</td>\n",
       "      <td>1.736595</td>\n",
       "      <td>1.503803</td>\n",
       "      <td>1.045509</td>\n",
       "      <td>-2.292003</td>\n",
       "      <td>...</td>\n",
       "      <td>0.014219</td>\n",
       "      <td>-0.066856</td>\n",
       "      <td>-0.037721</td>\n",
       "      <td>0.326262</td>\n",
       "      <td>-0.314256</td>\n",
       "      <td>-0.120443</td>\n",
       "      <td>0.149490</td>\n",
       "      <td>0.470226</td>\n",
       "      <td>0.159782</td>\n",
       "      <td>-0.267447</td>\n",
       "    </tr>\n",
       "  </tbody>\n",
       "</table>\n",
       "<p>197 rows × 48 columns</p>\n",
       "</div>"
      ],
      "text/plain": [
       "           0         1         2         3         4         5         6   \\\n",
       "0    0.077906 -4.485161  0.248646  4.509828 -3.998895  2.457029  1.474663   \n",
       "1    0.077906 -4.485161  0.248646  4.509828 -3.998895  2.457029  1.474663   \n",
       "2    1.370789 -4.068652 -0.946489  1.879137 -3.104202  0.285951 -0.083228   \n",
       "3   -0.645656 -0.453706 -0.339138 -1.836051  1.369542  0.343898 -2.053346   \n",
       "4    1.088671 -1.411509  1.069285 -1.206700  1.836057 -0.457355 -1.757884   \n",
       "..        ...       ...       ...       ...       ...       ...       ...   \n",
       "192  3.077135  0.717927  1.380936 -2.533181  0.943269  0.754088  1.847788   \n",
       "193  4.249535  0.813065  0.627734 -1.370351  3.096625 -0.086899  1.743769   \n",
       "194  4.859848 -1.085843  1.866972 -2.296001 -0.614595  0.017720 -0.000908   \n",
       "195  4.247347  4.683404 -2.154612 -0.308234  0.476485 -1.536373  0.808153   \n",
       "196  3.944552  1.121790  0.655073 -1.365307  2.995686  0.020761  1.736595   \n",
       "\n",
       "           7         8         9   ...        38        39        40  \\\n",
       "0    6.268236 -3.563717 -1.654226  ... -0.757690 -0.142579  0.280007   \n",
       "1    6.268236 -3.563717 -1.654226  ... -0.757690 -0.142579  0.280007   \n",
       "2    0.660215 -2.420888 -2.420893  ...  1.604286  0.653544 -0.312747   \n",
       "3    0.891862 -0.275889  2.222722  ... -0.236223 -0.100236  0.051027   \n",
       "4    1.128770 -0.055802  2.765239  ... -0.548196  0.317349  0.083382   \n",
       "..        ...       ...       ...  ...       ...       ...       ...   \n",
       "192  0.949145  1.124811 -1.459349  ...  0.059296  0.090710 -0.074882   \n",
       "193  1.527082  1.070578 -2.348466  ...  0.086515 -0.010205  0.277382   \n",
       "194 -0.341783  0.271052 -2.604391  ...  0.016556 -0.502210 -0.791319   \n",
       "195  1.790714  0.593092 -2.530662  ...  0.743053  0.783829 -0.250365   \n",
       "196  1.503803  1.045509 -2.292003  ...  0.014219 -0.066856 -0.037721   \n",
       "\n",
       "           41        42        43        44        45        46        47  \n",
       "0   -0.030738 -0.101306 -0.005890  0.091148  0.011209  0.099983 -0.029207  \n",
       "1   -0.030738 -0.101306 -0.005890  0.091148  0.011209  0.099983 -0.029207  \n",
       "2    0.135346  0.154660  0.025425 -0.152945  0.006236 -0.200775  0.065942  \n",
       "3    0.166014  0.281924  0.148507 -0.186315 -0.262873 -0.156446  0.171420  \n",
       "4    0.340708  0.103344  0.228358 -0.151545  0.010203  0.046929  0.122648  \n",
       "..        ...       ...       ...       ...       ...       ...       ...  \n",
       "192  0.018829 -0.217703  0.216355  0.064227  0.093171 -0.002890  0.043528  \n",
       "193  0.072292  0.003503  0.452029  0.012549 -0.106525 -0.246261  0.030777  \n",
       "194  0.364482 -0.285619 -0.002011  0.076431 -0.084465  0.002512 -0.215149  \n",
       "195  0.513885 -0.070067 -0.131491  0.161711  0.275618  0.102896  0.081606  \n",
       "196  0.326262 -0.314256 -0.120443  0.149490  0.470226  0.159782 -0.267447  \n",
       "\n",
       "[197 rows x 48 columns]"
      ]
     },
     "execution_count": 80,
     "metadata": {},
     "output_type": "execute_result"
    }
   ],
   "source": [
    "pca_X = pd.DataFrame(pca_X)\n",
    "pca_X"
   ]
  },
  {
   "cell_type": "markdown",
   "id": "8e0fe0ef",
   "metadata": {},
   "source": [
    "## Training the model without PCA"
   ]
  },
  {
   "cell_type": "code",
   "execution_count": 65,
   "id": "a853da4c",
   "metadata": {},
   "outputs": [
    {
     "data": {
      "text/plain": [
       "(197, 57)"
      ]
     },
     "execution_count": 65,
     "metadata": {},
     "output_type": "execute_result"
    }
   ],
   "source": [
    "X.shape"
   ]
  },
  {
   "cell_type": "code",
   "execution_count": 66,
   "id": "300faa12",
   "metadata": {},
   "outputs": [],
   "source": [
    "X_train,X_test,y_train,y_test = train_test_split(X,y, test_size = 0.2, random_state = 2)"
   ]
  },
  {
   "cell_type": "code",
   "execution_count": 67,
   "id": "60d3bc24",
   "metadata": {},
   "outputs": [
    {
     "data": {
      "text/plain": [
       "(157, 57)"
      ]
     },
     "execution_count": 67,
     "metadata": {},
     "output_type": "execute_result"
    }
   ],
   "source": [
    "X_train.shape"
   ]
  },
  {
   "cell_type": "code",
   "execution_count": 125,
   "id": "92a07bc8",
   "metadata": {},
   "outputs": [
    {
     "name": "stdout",
     "output_type": "stream",
     "text": [
      "lr R2 Score : 0.9593928033040146\n",
      "lr MSE : 2416288.7498321994\n",
      "lr MAE : 2317.344966644053\n"
     ]
    }
   ],
   "source": [
    "lr = LinearRegression()\n",
    "lr.fit(X_train,y_train)\n",
    "y_pred=lr.predict(X_train)\n",
    "print(\"lr R2 Score :\", r2_score(y_train,y_pred))\n",
    "print(\"lr MSE :\", mean_squared_error(y_train,y_pred))\n",
    "print(\"lr MAE :\", mean_absolute_error(y_test,y_test_pred))"
   ]
  },
  {
   "cell_type": "code",
   "execution_count": 126,
   "id": "a2511794",
   "metadata": {},
   "outputs": [
    {
     "name": "stdout",
     "output_type": "stream",
     "text": [
      "dtr R2 Score : 0.9993527955075941\n",
      "dtr MSE : 38511.22611464968\n",
      "dtr MAE : 2317.344966644053\n"
     ]
    }
   ],
   "source": [
    "dtr = DecisionTreeRegressor()\n",
    "dtr.fit(X_train,y_train)\n",
    "y_pred=dtr.predict(X_train)\n",
    "print(\"dtr R2 Score :\", r2_score(y_train,y_pred))\n",
    "print(\"dtr MSE :\", mean_squared_error(y_train,y_pred))\n",
    "print(\"dtr MAE :\", mean_absolute_error(y_test,y_test_pred))"
   ]
  },
  {
   "cell_type": "code",
   "execution_count": 127,
   "id": "7a49005c",
   "metadata": {
    "scrolled": true
   },
   "outputs": [
    {
     "name": "stdout",
     "output_type": "stream",
     "text": [
      "gbr R2 Score : 0.9939074715686185\n",
      "gbr MSE : 362529.5293589049\n",
      "gbr MAE : 2317.344966644053\n"
     ]
    }
   ],
   "source": [
    "gbr = GradientBoostingRegressor()\n",
    "gbr.fit(X_train,y_train)\n",
    "y_pred=gbr.predict(X_train)\n",
    "print(\"gbr R2 Score :\", r2_score(y_train,y_pred))\n",
    "print(\"gbr MSE :\", mean_squared_error(y_train,y_pred))\n",
    "print(\"gbr MAE :\", mean_absolute_error(y_test,y_test_pred))"
   ]
  },
  {
   "cell_type": "code",
   "execution_count": 128,
   "id": "efb27a6e",
   "metadata": {},
   "outputs": [
    {
     "name": "stdout",
     "output_type": "stream",
     "text": [
      "rfr R2 Score : 0.9857601491394159\n",
      "rfr MSE : 847327.425513203\n",
      "rfr MAE : 2317.344966644053\n"
     ]
    }
   ],
   "source": [
    "rfr = RandomForestRegressor()\n",
    "rfr.fit(X_train,y_train)\n",
    "y_pred=rfr.predict(X_train)\n",
    "print(\"rfr R2 Score :\", r2_score(y_train,y_pred))\n",
    "print(\"rfr MSE :\", mean_squared_error(y_train,y_pred))\n",
    "print(\"rfr MAE :\", mean_absolute_error(y_test,y_test_pred))"
   ]
  },
  {
   "cell_type": "code",
   "execution_count": 129,
   "id": "b9f6f02e",
   "metadata": {},
   "outputs": [
    {
     "name": "stdout",
     "output_type": "stream",
     "text": [
      "svr R2 Score : -0.10951971980205566\n",
      "svr MSE : 66020809.97479253\n",
      "svr MAE : 2317.344966644053\n"
     ]
    }
   ],
   "source": [
    "svr = SVR()\n",
    "svr.fit(X_train,y_train)\n",
    "y_pred=svr.predict(X_train)\n",
    "print(\"svr R2 Score :\", r2_score(y_train,y_pred))\n",
    "print(\"svr MSE :\", mean_squared_error(y_train,y_pred))\n",
    "print(\"svr MAE :\", mean_absolute_error(y_test,y_test_pred))"
   ]
  },
  {
   "cell_type": "markdown",
   "id": "e4681f61",
   "metadata": {},
   "source": [
    "## Training the model with PCA"
   ]
  },
  {
   "cell_type": "code",
   "execution_count": 114,
   "id": "6cedbddf",
   "metadata": {},
   "outputs": [
    {
     "data": {
      "text/plain": [
       "(197, 48)"
      ]
     },
     "execution_count": 114,
     "metadata": {},
     "output_type": "execute_result"
    }
   ],
   "source": [
    "pca_X.shape"
   ]
  },
  {
   "cell_type": "code",
   "execution_count": 104,
   "id": "db06a976",
   "metadata": {},
   "outputs": [],
   "source": [
    "X_train1,X_test1,y_train1,y_test1 = train_test_split(pca_X,y, test_size = 0.2, random_state = 2)"
   ]
  },
  {
   "cell_type": "code",
   "execution_count": 92,
   "id": "ed9d2c5f",
   "metadata": {},
   "outputs": [
    {
     "data": {
      "text/plain": [
       "(157, 48)"
      ]
     },
     "execution_count": 92,
     "metadata": {},
     "output_type": "execute_result"
    }
   ],
   "source": [
    "X_train1.shape"
   ]
  },
  {
   "cell_type": "code",
   "execution_count": 115,
   "id": "d33752c5",
   "metadata": {},
   "outputs": [
    {
     "name": "stdout",
     "output_type": "stream",
     "text": [
      "lr R2 Score : 0.9593928033040179\n",
      "lr MSE : 2416288.749831998\n"
     ]
    }
   ],
   "source": [
    "lr = LinearRegression()\n",
    "lr.fit(X_train1,y_train1)\n",
    "y_pred=lr.predict(X_train1)\n",
    "print(\"lr R2 Score :\", r2_score(y_train1,y_pred))\n",
    "print(\"lr MSE :\", mean_squared_error(y_train1,y_pred))\n"
   ]
  },
  {
   "cell_type": "code",
   "execution_count": 116,
   "id": "b73359d1",
   "metadata": {},
   "outputs": [
    {
     "name": "stdout",
     "output_type": "stream",
     "text": [
      "dtr R2 Score : 0.9993527955075941\n",
      "dtr MSE : 38511.22611464968\n"
     ]
    }
   ],
   "source": [
    "dtr = DecisionTreeRegressor()\n",
    "dtr.fit(X_train1,y_train1)\n",
    "y_pred=dtr.predict(X_train1)\n",
    "print(\"dtr R2 Score :\", r2_score(y_train1,y_pred))\n",
    "print(\"dtr MSE :\", mean_squared_error(y_train1,y_pred))\n"
   ]
  },
  {
   "cell_type": "code",
   "execution_count": 117,
   "id": "4626a841",
   "metadata": {},
   "outputs": [
    {
     "name": "stdout",
     "output_type": "stream",
     "text": [
      "gbr R2 Score : 0.998403758844937\n",
      "gbr MSE : 94982.6596963587\n"
     ]
    }
   ],
   "source": [
    "gbr = GradientBoostingRegressor()\n",
    "gbr.fit(X_train1,y_train1)\n",
    "y_pred=gbr.predict(X_train1)\n",
    "print(\"gbr R2 Score :\", r2_score(y_train1,y_pred))\n",
    "print(\"gbr MSE :\", mean_squared_error(y_train1,y_pred))"
   ]
  },
  {
   "cell_type": "code",
   "execution_count": 118,
   "id": "9f344850",
   "metadata": {},
   "outputs": [
    {
     "name": "stdout",
     "output_type": "stream",
     "text": [
      "rfr R2 Score : 0.9748803450800081\n",
      "rfr MSE : 1494718.781925769\n"
     ]
    }
   ],
   "source": [
    "rfr = RandomForestRegressor()\n",
    "rfr.fit(X_train1,y_train1)\n",
    "y_pred=rfr.predict(X_train1)\n",
    "print(\"rfr R2 Score :\", r2_score(y_train1,y_pred))\n",
    "print(\"rfr MSE :\", mean_squared_error(y_train1,y_pred))\n"
   ]
  },
  {
   "cell_type": "code",
   "execution_count": 119,
   "id": "4be61a18",
   "metadata": {},
   "outputs": [
    {
     "name": "stdout",
     "output_type": "stream",
     "text": [
      "svr R2 Score : -0.10951964940814762\n",
      "svr MSE : 66020805.78607669\n"
     ]
    }
   ],
   "source": [
    "svr = SVR()\n",
    "svr.fit(X_train1,y_train1)\n",
    "y_pred=svr.predict(X_train1)\n",
    "print(\"svr R2 Score :\", r2_score(y_train1,y_pred))\n",
    "print(\"svr MSE :\", mean_squared_error(y_train1,y_pred))\n"
   ]
  },
  {
   "cell_type": "markdown",
   "id": "564d0dbb",
   "metadata": {},
   "source": [
    "### AS we see from the above R2 Score both with PCA and without PCA both are giving same score"
   ]
  },
  {
   "cell_type": "markdown",
   "id": "2f3a27e1",
   "metadata": {},
   "source": [
    "## Hyperparameters Tuning"
   ]
  },
  {
   "cell_type": "markdown",
   "id": "41e462c9",
   "metadata": {},
   "source": [
    "### Decision Tree Regressor"
   ]
  },
  {
   "cell_type": "code",
   "execution_count": 81,
   "id": "82ce1408",
   "metadata": {},
   "outputs": [],
   "source": [
    "# setting the params for Decision Tree Regressor\n",
    "params = {\n",
    "    'max_depth': [80, 90, 100],\n",
    "    'max_features': [2, 3],\n",
    "    'min_samples_leaf': [3, 4, 5],\n",
    "    'min_samples_split': [8, 10, 12]\n",
    "    \n",
    "}"
   ]
  },
  {
   "cell_type": "code",
   "execution_count": 82,
   "id": "cab882b6",
   "metadata": {},
   "outputs": [
    {
     "data": {
      "text/plain": [
       "GridSearchCV(cv=3, estimator=DecisionTreeRegressor(), n_jobs=1,\n",
       "             param_grid={'max_depth': [80, 90, 100], 'max_features': [2, 3],\n",
       "                         'min_samples_leaf': [3, 4, 5],\n",
       "                         'min_samples_split': [8, 10, 12]})"
      ]
     },
     "execution_count": 82,
     "metadata": {},
     "output_type": "execute_result"
    }
   ],
   "source": [
    "tuned_dtr = GridSearchCV(estimator = dtr, param_grid = params, n_jobs = 1, cv = 3)\n",
    "tuned_dtr.fit(X_train,y_train)"
   ]
  },
  {
   "cell_type": "code",
   "execution_count": 87,
   "id": "6d280df2",
   "metadata": {},
   "outputs": [
    {
     "data": {
      "text/plain": [
       "{'max_depth': 80,\n",
       " 'max_features': 3,\n",
       " 'min_samples_leaf': 3,\n",
       " 'min_samples_split': 8}"
      ]
     },
     "execution_count": 87,
     "metadata": {},
     "output_type": "execute_result"
    }
   ],
   "source": [
    "tuned_dtr.best_params_"
   ]
  },
  {
   "cell_type": "code",
   "execution_count": 88,
   "id": "07f78d00",
   "metadata": {},
   "outputs": [
    {
     "data": {
      "text/plain": [
       "0.7900252692659434"
      ]
     },
     "execution_count": 88,
     "metadata": {},
     "output_type": "execute_result"
    }
   ],
   "source": [
    "tuned_dtr.best_score_"
   ]
  },
  {
   "cell_type": "code",
   "execution_count": 123,
   "id": "6a820ab9",
   "metadata": {},
   "outputs": [
    {
     "name": "stdout",
     "output_type": "stream",
     "text": [
      "dtr R2 Score : 0.830159815401839\n",
      "dtr MSE : 10106162.47130725\n",
      "dtr MAE : 2975.161572893744\n"
     ]
    }
   ],
   "source": [
    "# training the model with best params\n",
    "dtr =DecisionTreeRegressor(max_depth= 80,\n",
    "                           max_features= 3,\n",
    "                           min_samples_leaf= 3,\n",
    "                           min_samples_split= 8,\n",
    "                           )\n",
    "dtr.fit(X_train,y_train)\n",
    "y_pred=dtr.predict(X_train)\n",
    "# metrics for train data\n",
    "print(\"dtr R2 Score :\", r2_score(y_train,y_pred))\n",
    "print(\"dtr MSE :\", mean_squared_error(y_train,y_pred))\n",
    "print(\"dtr MAE :\", mean_absolute_error(y_test,y_test_pred))"
   ]
  },
  {
   "cell_type": "code",
   "execution_count": 124,
   "id": "c6c30033",
   "metadata": {},
   "outputs": [
    {
     "name": "stdout",
     "output_type": "stream",
     "text": [
      "dtr R2 Score : 0.7602351381397989\n",
      "dtr MSE : 10692999.401283925\n",
      "dtr MAE : 2317.344966644053\n"
     ]
    }
   ],
   "source": [
    "# metrics for test data\n",
    "y_test_pred = dtr.predict(X_test)\n",
    "print(\"dtr R2 Score :\", r2_score(y_test,y_test_pred))\n",
    "print(\"dtr MSE :\", mean_squared_error(y_test,y_test_pred))\n",
    "print(\"dtr MAE :\", mean_absolute_error(y_test,y_test_pred))"
   ]
  },
  {
   "cell_type": "markdown",
   "id": "440494d0",
   "metadata": {},
   "source": [
    "### Gradient Booster Regressor"
   ]
  },
  {
   "cell_type": "code",
   "execution_count": 97,
   "id": "4add6c89",
   "metadata": {},
   "outputs": [],
   "source": [
    "# setting params for Gradient Booster Regression\n",
    "param_grid1 ={'n_estimators':[200,300,500],\n",
    "              'learning_rate':[.001,0.01,.1],\n",
    "              'max_depth':[1,2,4],\n",
    "              'subsample':[.5,.75,1],\n",
    "              'random_state':[1]\n",
    "             }"
   ]
  },
  {
   "cell_type": "code",
   "execution_count": 98,
   "id": "05a17bfd",
   "metadata": {},
   "outputs": [
    {
     "data": {
      "text/plain": [
       "GridSearchCV(cv=3, estimator=GradientBoostingRegressor(), n_jobs=1,\n",
       "             param_grid={'learning_rate': [0.001, 0.01, 0.1],\n",
       "                         'max_depth': [1, 2, 4],\n",
       "                         'n_estimators': [200, 300, 500], 'random_state': [1],\n",
       "                         'subsample': [0.5, 0.75, 1]})"
      ]
     },
     "execution_count": 98,
     "metadata": {},
     "output_type": "execute_result"
    }
   ],
   "source": [
    "tuned_gbr = GridSearchCV(estimator = gbr, param_grid = param_grid1, n_jobs = 1, cv = 3)\n",
    "tuned_gbr.fit(X_train,y_train)"
   ]
  },
  {
   "cell_type": "code",
   "execution_count": 99,
   "id": "77968889",
   "metadata": {},
   "outputs": [
    {
     "data": {
      "text/plain": [
       "{'learning_rate': 0.01,\n",
       " 'max_depth': 4,\n",
       " 'n_estimators': 500,\n",
       " 'random_state': 1,\n",
       " 'subsample': 0.5}"
      ]
     },
     "execution_count": 99,
     "metadata": {},
     "output_type": "execute_result"
    }
   ],
   "source": [
    "tuned_gbr.best_params_"
   ]
  },
  {
   "cell_type": "code",
   "execution_count": 100,
   "id": "2e2e2715",
   "metadata": {},
   "outputs": [
    {
     "data": {
      "text/plain": [
       "0.8882005959935827"
      ]
     },
     "execution_count": 100,
     "metadata": {},
     "output_type": "execute_result"
    }
   ],
   "source": [
    "tuned_gbr.best_score_"
   ]
  },
  {
   "cell_type": "code",
   "execution_count": 117,
   "id": "9ebaa3b4",
   "metadata": {},
   "outputs": [
    {
     "name": "stdout",
     "output_type": "stream",
     "text": [
      "gbr R2 Score : 0.9917981375239641\n",
      "gbr MSE : 488043.24457284354\n",
      "gbr MAE : 1882.2091252991274\n"
     ]
    }
   ],
   "source": [
    "# training the model with best params\n",
    "gbr = GradientBoostingRegressor(learning_rate= 0.01,\n",
    "                                max_depth= 4,\n",
    "                                n_estimators= 500,\n",
    "                                random_state= 1,\n",
    "                                subsample= 0.5)\n",
    "gbr.fit(X_train,y_train)\n",
    "y_pred=gbr.predict(X_train)\n",
    "# metrics for train data\n",
    "print(\"gbr R2 Score :\", r2_score(y_train,y_pred))\n",
    "print(\"gbr MSE :\", mean_squared_error(y_train,y_pred))\n",
    "print(\"gbr MAE :\", mean_absolute_error(y_test,y_test_pred))"
   ]
  },
  {
   "cell_type": "code",
   "execution_count": 118,
   "id": "ba3504ad",
   "metadata": {},
   "outputs": [
    {
     "name": "stdout",
     "output_type": "stream",
     "text": [
      "gbr R2 Score : 0.8283865124252938\n",
      "gbr MSE : 7653594.048983475\n",
      "gbr MAE : 1882.2091252991274\n"
     ]
    }
   ],
   "source": [
    "# metrics for test data\n",
    "y_test_pred = gbr.predict(X_test)\n",
    "print(\"gbr R2 Score :\", r2_score(y_test,y_test_pred))\n",
    "print(\"gbr MSE :\", mean_squared_error(y_test,y_test_pred))\n",
    "print(\"gbr MAE :\", mean_absolute_error(y_test,y_test_pred))"
   ]
  },
  {
   "cell_type": "markdown",
   "id": "bc1580cf",
   "metadata": {},
   "source": [
    "### Random Forest Regressor"
   ]
  },
  {
   "cell_type": "code",
   "execution_count": 103,
   "id": "18606725",
   "metadata": {},
   "outputs": [],
   "source": [
    "# setting the params for Random Forest Regressor\n",
    "param_grid = {\n",
    "    'max_depth': [80, 90, 100],\n",
    "    'max_features': [2, 3],\n",
    "    'min_samples_leaf': [3, 4, 5],\n",
    "    'min_samples_split': [8, 10, 12],\n",
    "    'n_estimators': [100, 200, 300]\n",
    "}"
   ]
  },
  {
   "cell_type": "code",
   "execution_count": 104,
   "id": "78c62312",
   "metadata": {},
   "outputs": [
    {
     "name": "stdout",
     "output_type": "stream",
     "text": [
      "Fitting 3 folds for each of 162 candidates, totalling 486 fits\n"
     ]
    },
    {
     "data": {
      "text/plain": [
       "GridSearchCV(cv=3, estimator=RandomForestRegressor(), n_jobs=-1,\n",
       "             param_grid={'max_depth': [80, 90, 100], 'max_features': [2, 3],\n",
       "                         'min_samples_leaf': [3, 4, 5],\n",
       "                         'min_samples_split': [8, 10, 12],\n",
       "                         'n_estimators': [100, 200, 300]},\n",
       "             verbose=1)"
      ]
     },
     "execution_count": 104,
     "metadata": {},
     "output_type": "execute_result"
    }
   ],
   "source": [
    "tuned_rfr = GridSearchCV(estimator = rfr, param_grid = param_grid, \n",
    "                          cv = 3, n_jobs = -1, verbose = 1)\n",
    "tuned_rfr.fit(X_train,y_train)"
   ]
  },
  {
   "cell_type": "code",
   "execution_count": 254,
   "id": "6bc5b4ef",
   "metadata": {},
   "outputs": [
    {
     "data": {
      "text/plain": [
       "{'max_depth': 100,\n",
       " 'max_features': 3,\n",
       " 'min_samples_leaf': 3,\n",
       " 'min_samples_split': 8,\n",
       " 'n_estimators': 300}"
      ]
     },
     "execution_count": 254,
     "metadata": {},
     "output_type": "execute_result"
    }
   ],
   "source": [
    "tuned_rfr.best_params_"
   ]
  },
  {
   "cell_type": "code",
   "execution_count": 105,
   "id": "8f20390b",
   "metadata": {},
   "outputs": [
    {
     "data": {
      "text/plain": [
       "0.7834608392550186"
      ]
     },
     "execution_count": 105,
     "metadata": {},
     "output_type": "execute_result"
    }
   ],
   "source": [
    "tuned_rfr.best_score_"
   ]
  },
  {
   "cell_type": "code",
   "execution_count": 120,
   "id": "5e80cac2",
   "metadata": {},
   "outputs": [
    {
     "name": "stdout",
     "output_type": "stream",
     "text": [
      "rfr R2 Score : 0.8973543543233284\n",
      "rfr MSE : 6107821.742157431\n",
      "rfr MAE : 2220.020570257193\n"
     ]
    }
   ],
   "source": [
    "# training the model with best params\n",
    "rfr =RandomForestRegressor(max_depth= 100,\n",
    "                           max_features= 3,\n",
    "                           min_samples_leaf= 3,\n",
    "                           min_samples_split= 8,\n",
    "                           n_estimators= 300)\n",
    "rfr.fit(X_train,y_train)\n",
    "y_pred=rfr.predict(X_train)\n",
    "# metrics for the train data\n",
    "print(\"rfr R2 Score :\", r2_score(y_train,y_pred))\n",
    "print(\"rfr MSE :\", mean_squared_error(y_train,y_pred))\n",
    "print(\"rfr MAE :\", mean_absolute_error(y_test,y_test_pred))"
   ]
  },
  {
   "cell_type": "code",
   "execution_count": 119,
   "id": "6f91dbe9",
   "metadata": {},
   "outputs": [
    {
     "name": "stdout",
     "output_type": "stream",
     "text": [
      "rfr R2 Score : 0.8163139622883351\n",
      "rfr MSE : 8192003.932670848\n",
      "rfr MAE : 2220.020570257193\n"
     ]
    }
   ],
   "source": [
    "# metrics for the test data\n",
    "y_test_pred = rfr.predict(X_test)\n",
    "print(\"rfr R2 Score :\", r2_score(y_test,y_test_pred))\n",
    "print(\"rfr MSE :\", mean_squared_error(y_test,y_test_pred))\n",
    "print(\"rfr MAE :\", mean_absolute_error(y_test,y_test_pred))"
   ]
  },
  {
   "cell_type": "markdown",
   "id": "b55301e9",
   "metadata": {},
   "source": [
    "## Final Model"
   ]
  },
  {
   "cell_type": "code",
   "execution_count": 116,
   "id": "9fe6cd0f",
   "metadata": {},
   "outputs": [
    {
     "name": "stdout",
     "output_type": "stream",
     "text": [
      "gbr R2 Score : 0.8283865124252938\n",
      "gbr MSE : 7653594.048983475\n",
      "gbr MAE : 1882.2091252991274\n"
     ]
    }
   ],
   "source": [
    "# Final model as Gradient Booster Regressor\n",
    "gbr = GradientBoostingRegressor(learning_rate= 0.01,\n",
    "                                max_depth= 4,\n",
    "                                n_estimators= 500,\n",
    "                                random_state= 1,\n",
    "                                subsample= 0.5)\n",
    "gbr.fit(X_train,y_train)\n",
    "y_test_pred = gbr.predict(X_test)\n",
    "print(\"gbr R2 Score :\", r2_score(y_test,y_test_pred))\n",
    "print(\"gbr MSE :\", mean_squared_error(y_test,y_test_pred))\n",
    "print(\"gbr MAE :\", mean_absolute_error(y_test,y_test_pred))"
   ]
  },
  {
   "cell_type": "markdown",
   "id": "2655b504",
   "metadata": {},
   "source": [
    "### The Final Model that we see is Gardient Booster Regressor it has the \n",
    "### R2 Score of 83%\n",
    "### Mean Squared Error of 7653594.048983475\n",
    "### Mean Absolute Error of 1882.2091252991274"
   ]
  },
  {
   "cell_type": "code",
   "execution_count": null,
   "id": "d35b8aab",
   "metadata": {},
   "outputs": [],
   "source": []
  }
 ],
 "metadata": {
  "kernelspec": {
   "display_name": "Python 3 (ipykernel)",
   "language": "python",
   "name": "python3"
  },
  "language_info": {
   "codemirror_mode": {
    "name": "ipython",
    "version": 3
   },
   "file_extension": ".py",
   "mimetype": "text/x-python",
   "name": "python",
   "nbconvert_exporter": "python",
   "pygments_lexer": "ipython3",
   "version": "3.9.13"
  }
 },
 "nbformat": 4,
 "nbformat_minor": 5
}
